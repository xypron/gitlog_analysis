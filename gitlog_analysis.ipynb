{
 "cells": [
  {
   "cell_type": "markdown",
   "metadata": {},
   "source": [
    "# Analysis fixed commits in the Linux kernel since 2013"
   ]
  },
  {
   "cell_type": "markdown",
   "metadata": {},
   "source": [
    "## Business understanding\n",
    "\n",
    "The Linux kernel is one of the world's largest and complex software projects. The source code consist of more than 25 million lines. A new release is created every two months where each release has 1700 or more contributors from more than 200 different companies as well as volunteers.\n",
    "\n",
    "The source code is managed in a Git repository. The amount of code changes is huge: \"2017 saw 71,552 commits to the Linux kernel tree. That added 3,911,061 lines of new code and 1,385,507 lines of code removed for a net gain of 2.5 million lines.\" (https://www.phoronix.com/scan.php?page=news_item&px=Linux-Kernel-Commits-2017)\n",
    "\n",
    "\"Patches do not normally pass directly into the mainline kernel; instead, they pass through one of over 100 subsystem trees.\" (Linux Kernel Report 2017). Here the are reviewed by the subsystem maintainers and stay in the for-next tree for testing.\n",
    "\n",
    "Despite reviewing and testing bugs pass into the mainline code. Some may just be a nuisance but the number of security critical bugs alone goes into the hundreds (cf. https://www.cvedetails.com/product/47/Linux-Linux-Kernel.html).\n",
    " \n",
    "So it would be of interest to find a classification scheme indicating patches that come with a high risk of creating new bugs."
   ]
  },
  {
   "cell_type": "markdown",
   "metadata": {},
   "source": [
    "## Data understanding, part 1\n",
    "\n",
    "The most accessable data source about the Linux kernel is the Git repository in which the code is prepared. The development of the next release occurs in the mainline tree https://git.kernel.org/pub/scm/linux/kernel/git/torvalds/linux.git. Once a release is finalized further changes can be seen in the stable tree https://git.kernel.org/pub/scm/linux/kernel/git/stable/linux.git.\n",
    "\n",
    "Changes to be merged into a Git repository often are submitted as a series of patches which together provide the changed functionality. Unfortunately this information is only visible in historic emails.\n",
    "\n",
    "Each patch changes the content or attributes of a single or multiple files. The changes in each file may refer to a single of multiple regions of consecutive lines. These regions are a referred to as hunks (cf. https://dev.to/etcwilde/git-and-the-interactive-patch-add).\n",
    "\n",
    "Besides a title line the patch typically has a multi-line commit message detailing the reasoning behind the change. \n",
    "\n",
    "The Linux kernel documentation has a style guide for patches (https://www.kernel.org/doc/html/latest/process/submitting-patches.html) which requires additional lines to be added to the commit message prededed by tags like: \"Signed-off-by:\", \"Reported-by:\", \"Tested-by:\", \"Reviewed-by:\", \"Suggested-by:\" and \"Fixes:\".\n",
    "\n",
    "The \"Fixes:\" line clearly indicates a prior patch which had a problem. The \"Fixes:\" line should contain at least the first 12 hexadecimal degits of the commit fixed and the title of the fixed patch.\n",
    "\n",
    "There may be other indications of an error being fixed like a reference to a CVE. Sometimes references to other patches occur in the middle of a commit message. But classifying these would out of the scope for this project. \"Fixes:\" is the only indicator pointing uniquely to a problematic patch and easily parasable. \"Fixes:\" tags can be found for commits since 2013. This is why the further analysis will focus on the years 2013ff.\n",
    "\n",
    "Further information that is available in patches is the author of the patch, the time of he created the patch, the person that committed the patch to the Linux kernel repository and the time when it was committed.\n"
   ]
  },
  {
   "cell_type": "markdown",
   "metadata": {},
   "source": [
    "## Data preparation\n",
    "\n",
    "Git repositories are stored in a complex way distributed over multiple directories as described in https://git-scm.com/docs/gitrepository-layout. In this form it is not amenable for a data analysis.\n",
    "\n",
    "A major part of this project therefore was extracting the data in a form that can be easily consumed in Python.\n",
    "\n",
    "The Git version control software comes with a command \"git log\" which allows to output infromation about all or a range of patches of a repository in text format.\n",
    "\n",
    "Within this project a parser for the git log text stream was created, which is available at https://github.com/xypron/gitlog_analyzer. \n",
    "\n",
    "This tool was used to extract data for the patches since Jan 1st, 2013 until release v5.2.9 into the following files:\n",
    "\n",
    "authors.csv describes the authors and commiters of the patches and has the following fields:\n",
    "\n",
    "* id - number identifying the author\n",
    "* email_domain - email domain of the author\n",
    "* commits - number of commits by the author\n",
    "* committer_hour_xx - number of commits in hour xx of the day\n",
    "* committer_wday_y - number of commits on the day y of the week (1 = Monday)\n",
    "* first_commit - Unix timestamp of the first commit by the author\n",
    "* last_commit - Unix timestamp of the last commit\n",
    "* patches - number of patches by the authors\n",
    "* author_hour_xx - number of patches in hour xx of the day\n",
    "* author_wday_y - number of patches on the day y of the week (1 = Monday)\n",
    "* first_patch - Unix timestamp of the first patch by the author\n",
    "* last_patch - Unix timestamp of the last patch\n",
    "* commit_message_lines - total number of commit lines by the author\n",
    "* changed_files - total number of changed files by the author\n",
    "* hunks - total number of changed hungs by the author\n",
    "* lines_added - total number of lines added by the author\n",
    "* lines_removed - total number of lines removed by the author\n",
    "\n",
    "commits.csv describes the commits and has the following fields:\n",
    "\n",
    "* hash - hash of the commit\n",
    "* committer_timestamp - timestamp when committed\n",
    "* committer_wday - weekday when committed\n",
    "* committer_hour - hour of the day when committed\n",
    "* author_timestamp - timestamp when the patch was authored\n",
    "* author_wday - weekday when the patch was authored\n",
    "* author_hour - hour of the day when the patch was authored\n",
    "* commit_message_lines - number of lines in the commit message\n",
    "* signed_offs - number of 'Signed-off-by:' for the commit\n",
    "* testeds - number of 'Tested-by:' for the commit\n",
    "* reviews - number of the 'Reviewed-by:' for the commit\n",
    "* fixes - number of the 'Fixes:' lines in the commit message\n",
    "* changed_files - number of the files changed by the commit\n",
    "* hunks - number of the hunks changed by the commit\n",
    "* lines_added - number of the lines added by the commit\n",
    "* lines_removed - number of the lines removed by the commit\n",
    "* fixed - number of patches that fixed this commit\n",
    "* author_* - author with statistic measures at the time of the commit\n",
    "* committer_* - committer with statistic measures at the time of the commit\n",
    "\n",
    "The file authors.csv is not needed for the further analysis as the data for authors an committers at the time a patch was committed is contained in commits.csv.\n",
    "\n",
    "The target of the tool development was to provide the data such that it contains no duplicate or missing data and that it is easily consumable in Python. So not further data cleansing steps will be done."
   ]
  },
  {
   "cell_type": "markdown",
   "metadata": {},
   "source": [
    "## Data understanding, part 2\n",
    "\n",
    "In book version of the CRISP-DM process building data understanding comes before data preparation. But as described before Git data does not come in any format where we could get insight before preparing the data in a usable way. Now that we have the data in CSV files we can try to find out what it tells us.\n",
    "\n",
    "After looking at the number of data points let's investigate different parameters that may be indicators that a patch will lead to a bug."
   ]
  },
  {
   "cell_type": "code",
   "execution_count": 1,
   "metadata": {},
   "outputs": [],
   "source": [
    "import pandas as pd\n",
    "import math\n",
    "import matplotlib.pyplot as plt # plotting\n",
    "import matplotlib.patches as mpatches\n",
    "import numpy as np\n",
    "from sklearn.model_selection import train_test_split\n",
    "\n",
    "# Alternative supervised learning models from sklearn\n",
    "from sklearn.neighbors import KNeighborsClassifier\n",
    "from sklearn.ensemble import RandomForestClassifier\n",
    "from sklearn.svm import SVC\n",
    "from sklearn.linear_model import SGDClassifier\n",
    "\n",
    "from sklearn.metrics import fbeta_score\n",
    "from sklearn.metrics import accuracy_score\n",
    "from sklearn.metrics import confusion_matrix\n",
    "from sklearn.preprocessing import MinMaxScaler\n",
    "from sklearn.preprocessing import StandardScaler\n",
    "from time import time\n",
    "%matplotlib inline"
   ]
  },
  {
   "cell_type": "markdown",
   "metadata": {},
   "source": [
    "### Data source\n",
    "\n",
    "commits.csv contains information about the Linux kernel commits from 2013-01-01 until relase v5.2.9. The data is compiled with the Gitlog Analyzer available at https://github.com/xypron/gitlog_analyzer."
   ]
  },
  {
   "cell_type": "code",
   "execution_count": 2,
   "metadata": {},
   "outputs": [
    {
     "data": {
      "text/plain": [
       "(454921, 167)"
      ]
     },
     "execution_count": 2,
     "metadata": {},
     "output_type": "execute_result"
    }
   ],
   "source": [
    "commits = pd.read_csv('commits.csv')\n",
    "commits.shape"
   ]
  },
  {
   "cell_type": "code",
   "execution_count": 3,
   "metadata": {},
   "outputs": [
    {
     "data": {
      "text/html": [
       "<div>\n",
       "<style scoped>\n",
       "    .dataframe tbody tr th:only-of-type {\n",
       "        vertical-align: middle;\n",
       "    }\n",
       "\n",
       "    .dataframe tbody tr th {\n",
       "        vertical-align: top;\n",
       "    }\n",
       "\n",
       "    .dataframe thead th {\n",
       "        text-align: right;\n",
       "    }\n",
       "</style>\n",
       "<table border=\"1\" class=\"dataframe\">\n",
       "  <thead>\n",
       "    <tr style=\"text-align: right;\">\n",
       "      <th></th>\n",
       "      <th>hash</th>\n",
       "      <th>committer_timestamp</th>\n",
       "      <th>committer_wday</th>\n",
       "      <th>committer_hour</th>\n",
       "      <th>author_timestamp</th>\n",
       "      <th>author_wday</th>\n",
       "      <th>author_hour</th>\n",
       "      <th>commit_message_lines</th>\n",
       "      <th>signed_offs</th>\n",
       "      <th>testeds</th>\n",
       "      <th>reviews</th>\n",
       "      <th>fixes</th>\n",
       "      <th>changed_files</th>\n",
       "      <th>hunks</th>\n",
       "      <th>lines_added</th>\n",
       "      <th>lines_removed</th>\n",
       "      <th>fixed</th>\n",
       "      <th>author_id</th>\n",
       "      <th>author_email_domain</th>\n",
       "      <th>author_commits</th>\n",
       "      <th>author_committer_hour_00</th>\n",
       "      <th>author_committer_hour_01</th>\n",
       "      <th>author_committer_hour_02</th>\n",
       "      <th>author_committer_hour_03</th>\n",
       "      <th>author_committer_hour_04</th>\n",
       "      <th>author_committer_hour_05</th>\n",
       "      <th>author_committer_hour_06</th>\n",
       "      <th>author_committer_hour_07</th>\n",
       "      <th>author_committer_hour_08</th>\n",
       "      <th>author_committer_hour_09</th>\n",
       "      <th>author_committer_hour_10</th>\n",
       "      <th>author_committer_hour_11</th>\n",
       "      <th>author_committer_hour_12</th>\n",
       "      <th>author_committer_hour_13</th>\n",
       "      <th>author_committer_hour_14</th>\n",
       "      <th>author_committer_hour_15</th>\n",
       "      <th>author_committer_hour_16</th>\n",
       "      <th>author_committer_hour_17</th>\n",
       "      <th>author_committer_hour_18</th>\n",
       "      <th>author_committer_hour_19</th>\n",
       "      <th>author_committer_hour_20</th>\n",
       "      <th>author_committer_hour_21</th>\n",
       "      <th>author_committer_hour_22</th>\n",
       "      <th>author_committer_hour_23</th>\n",
       "      <th>author_committer_wday_1</th>\n",
       "      <th>author_committer_wday_2</th>\n",
       "      <th>author_committer_wday_3</th>\n",
       "      <th>author_committer_wday_4</th>\n",
       "      <th>author_committer_wday_5</th>\n",
       "      <th>author_committer_wday_6</th>\n",
       "      <th>author_committer_wday_7</th>\n",
       "      <th>author_first_commit</th>\n",
       "      <th>author_last_commit</th>\n",
       "      <th>author_patches</th>\n",
       "      <th>author_author_hour_00</th>\n",
       "      <th>author_author_hour_01</th>\n",
       "      <th>author_author_hour_02</th>\n",
       "      <th>author_author_hour_03</th>\n",
       "      <th>author_author_hour_04</th>\n",
       "      <th>author_author_hour_05</th>\n",
       "      <th>author_author_hour_06</th>\n",
       "      <th>author_author_hour_07</th>\n",
       "      <th>author_author_hour_08</th>\n",
       "      <th>author_author_hour_09</th>\n",
       "      <th>author_author_hour_10</th>\n",
       "      <th>author_author_hour_11</th>\n",
       "      <th>author_author_hour_12</th>\n",
       "      <th>author_author_hour_13</th>\n",
       "      <th>author_author_hour_14</th>\n",
       "      <th>author_author_hour_15</th>\n",
       "      <th>author_author_hour_16</th>\n",
       "      <th>author_author_hour_17</th>\n",
       "      <th>author_author_hour_18</th>\n",
       "      <th>author_author_hour_19</th>\n",
       "      <th>author_author_hour_20</th>\n",
       "      <th>author_author_hour_21</th>\n",
       "      <th>author_author_hour_22</th>\n",
       "      <th>author_author_hour_23</th>\n",
       "      <th>author_author_wday_1</th>\n",
       "      <th>author_author_wday_2</th>\n",
       "      <th>author_author_wday_3</th>\n",
       "      <th>author_author_wday_4</th>\n",
       "      <th>author_author_wday_5</th>\n",
       "      <th>author_author_wday_6</th>\n",
       "      <th>author_author_wday_7</th>\n",
       "      <th>author_first_patch</th>\n",
       "      <th>author_last_patch</th>\n",
       "      <th>author_commit_message_lines</th>\n",
       "      <th>author_changed_files</th>\n",
       "      <th>author_hunks</th>\n",
       "      <th>author_lines_added</th>\n",
       "      <th>author_lines_removed</th>\n",
       "      <th>committer_id</th>\n",
       "      <th>committer_email_domain</th>\n",
       "      <th>committer_commits</th>\n",
       "      <th>committer_committer_hour_00</th>\n",
       "      <th>committer_committer_hour_01</th>\n",
       "      <th>committer_committer_hour_02</th>\n",
       "      <th>committer_committer_hour_03</th>\n",
       "      <th>committer_committer_hour_04</th>\n",
       "      <th>committer_committer_hour_05</th>\n",
       "      <th>committer_committer_hour_06</th>\n",
       "      <th>committer_committer_hour_07</th>\n",
       "      <th>committer_committer_hour_08</th>\n",
       "      <th>committer_committer_hour_09</th>\n",
       "      <th>committer_committer_hour_10</th>\n",
       "      <th>committer_committer_hour_11</th>\n",
       "      <th>committer_committer_hour_12</th>\n",
       "      <th>committer_committer_hour_13</th>\n",
       "      <th>committer_committer_hour_14</th>\n",
       "      <th>committer_committer_hour_15</th>\n",
       "      <th>committer_committer_hour_16</th>\n",
       "      <th>committer_committer_hour_17</th>\n",
       "      <th>committer_committer_hour_18</th>\n",
       "      <th>committer_committer_hour_19</th>\n",
       "      <th>committer_committer_hour_20</th>\n",
       "      <th>committer_committer_hour_21</th>\n",
       "      <th>committer_committer_hour_22</th>\n",
       "      <th>committer_committer_hour_23</th>\n",
       "      <th>committer_committer_wday_1</th>\n",
       "      <th>committer_committer_wday_2</th>\n",
       "      <th>committer_committer_wday_3</th>\n",
       "      <th>committer_committer_wday_4</th>\n",
       "      <th>committer_committer_wday_5</th>\n",
       "      <th>committer_committer_wday_6</th>\n",
       "      <th>committer_committer_wday_7</th>\n",
       "      <th>committer_first_commit</th>\n",
       "      <th>committer_last_commit</th>\n",
       "      <th>committer_patches</th>\n",
       "      <th>committer_author_hour_00</th>\n",
       "      <th>committer_author_hour_01</th>\n",
       "      <th>committer_author_hour_02</th>\n",
       "      <th>committer_author_hour_03</th>\n",
       "      <th>committer_author_hour_04</th>\n",
       "      <th>committer_author_hour_05</th>\n",
       "      <th>committer_author_hour_06</th>\n",
       "      <th>committer_author_hour_07</th>\n",
       "      <th>committer_author_hour_08</th>\n",
       "      <th>committer_author_hour_09</th>\n",
       "      <th>committer_author_hour_10</th>\n",
       "      <th>committer_author_hour_11</th>\n",
       "      <th>committer_author_hour_12</th>\n",
       "      <th>committer_author_hour_13</th>\n",
       "      <th>committer_author_hour_14</th>\n",
       "      <th>committer_author_hour_15</th>\n",
       "      <th>committer_author_hour_16</th>\n",
       "      <th>committer_author_hour_17</th>\n",
       "      <th>committer_author_hour_18</th>\n",
       "      <th>committer_author_hour_19</th>\n",
       "      <th>committer_author_hour_20</th>\n",
       "      <th>committer_author_hour_21</th>\n",
       "      <th>committer_author_hour_22</th>\n",
       "      <th>committer_author_hour_23</th>\n",
       "      <th>committer_author_wday_1</th>\n",
       "      <th>committer_author_wday_2</th>\n",
       "      <th>committer_author_wday_3</th>\n",
       "      <th>committer_author_wday_4</th>\n",
       "      <th>committer_author_wday_5</th>\n",
       "      <th>committer_author_wday_6</th>\n",
       "      <th>committer_author_wday_7</th>\n",
       "      <th>committer_first_patch</th>\n",
       "      <th>committer_last_patch</th>\n",
       "      <th>committer_commit_message_lines</th>\n",
       "      <th>committer_changed_files</th>\n",
       "      <th>committer_hunks</th>\n",
       "      <th>committer_lines_added</th>\n",
       "      <th>committer_lines_removed</th>\n",
       "    </tr>\n",
       "  </thead>\n",
       "  <tbody>\n",
       "    <tr>\n",
       "      <th>0</th>\n",
       "      <td>e003ae399c160e00c1a882dc6dd4f0ef855ae616</td>\n",
       "      <td>1357041880</td>\n",
       "      <td>2</td>\n",
       "      <td>0</td>\n",
       "      <td>1353669155</td>\n",
       "      <td>5</td>\n",
       "      <td>8</td>\n",
       "      <td>10</td>\n",
       "      <td>2</td>\n",
       "      <td>0</td>\n",
       "      <td>0</td>\n",
       "      <td>0</td>\n",
       "      <td>1</td>\n",
       "      <td>1</td>\n",
       "      <td>2</td>\n",
       "      <td>2</td>\n",
       "      <td>0</td>\n",
       "      <td>10759</td>\n",
       "      <td>gmail.com</td>\n",
       "      <td>0</td>\n",
       "      <td>0</td>\n",
       "      <td>0</td>\n",
       "      <td>0</td>\n",
       "      <td>0</td>\n",
       "      <td>0</td>\n",
       "      <td>0</td>\n",
       "      <td>0</td>\n",
       "      <td>0</td>\n",
       "      <td>0</td>\n",
       "      <td>0</td>\n",
       "      <td>0</td>\n",
       "      <td>0</td>\n",
       "      <td>0</td>\n",
       "      <td>0</td>\n",
       "      <td>0</td>\n",
       "      <td>0</td>\n",
       "      <td>0</td>\n",
       "      <td>0</td>\n",
       "      <td>0</td>\n",
       "      <td>0</td>\n",
       "      <td>0</td>\n",
       "      <td>0</td>\n",
       "      <td>0</td>\n",
       "      <td>0</td>\n",
       "      <td>0</td>\n",
       "      <td>0</td>\n",
       "      <td>0</td>\n",
       "      <td>0</td>\n",
       "      <td>0</td>\n",
       "      <td>0</td>\n",
       "      <td>0</td>\n",
       "      <td>0</td>\n",
       "      <td>0</td>\n",
       "      <td>125</td>\n",
       "      <td>1</td>\n",
       "      <td>0</td>\n",
       "      <td>3</td>\n",
       "      <td>1</td>\n",
       "      <td>1</td>\n",
       "      <td>0</td>\n",
       "      <td>2</td>\n",
       "      <td>9</td>\n",
       "      <td>6</td>\n",
       "      <td>27</td>\n",
       "      <td>4</td>\n",
       "      <td>14</td>\n",
       "      <td>10</td>\n",
       "      <td>2</td>\n",
       "      <td>3</td>\n",
       "      <td>27</td>\n",
       "      <td>5</td>\n",
       "      <td>0</td>\n",
       "      <td>4</td>\n",
       "      <td>0</td>\n",
       "      <td>1</td>\n",
       "      <td>5</td>\n",
       "      <td>0</td>\n",
       "      <td>0</td>\n",
       "      <td>15</td>\n",
       "      <td>32</td>\n",
       "      <td>21</td>\n",
       "      <td>15</td>\n",
       "      <td>17</td>\n",
       "      <td>20</td>\n",
       "      <td>5</td>\n",
       "      <td>1329947174</td>\n",
       "      <td>1354541500</td>\n",
       "      <td>1638</td>\n",
       "      <td>201</td>\n",
       "      <td>431</td>\n",
       "      <td>4568</td>\n",
       "      <td>12509</td>\n",
       "      <td>573</td>\n",
       "      <td>kernel.org</td>\n",
       "      <td>15656</td>\n",
       "      <td>952</td>\n",
       "      <td>812</td>\n",
       "      <td>665</td>\n",
       "      <td>252</td>\n",
       "      <td>386</td>\n",
       "      <td>332</td>\n",
       "      <td>287</td>\n",
       "      <td>804</td>\n",
       "      <td>1260</td>\n",
       "      <td>1450</td>\n",
       "      <td>169</td>\n",
       "      <td>721</td>\n",
       "      <td>1531</td>\n",
       "      <td>429</td>\n",
       "      <td>924</td>\n",
       "      <td>798</td>\n",
       "      <td>342</td>\n",
       "      <td>1154</td>\n",
       "      <td>618</td>\n",
       "      <td>964</td>\n",
       "      <td>444</td>\n",
       "      <td>97</td>\n",
       "      <td>140</td>\n",
       "      <td>125</td>\n",
       "      <td>3141</td>\n",
       "      <td>2625</td>\n",
       "      <td>2334</td>\n",
       "      <td>1988</td>\n",
       "      <td>2235</td>\n",
       "      <td>1566</td>\n",
       "      <td>1767</td>\n",
       "      <td>1134989639</td>\n",
       "      <td>1357041880</td>\n",
       "      <td>2497</td>\n",
       "      <td>115</td>\n",
       "      <td>176</td>\n",
       "      <td>104</td>\n",
       "      <td>86</td>\n",
       "      <td>39</td>\n",
       "      <td>76</td>\n",
       "      <td>69</td>\n",
       "      <td>94</td>\n",
       "      <td>165</td>\n",
       "      <td>206</td>\n",
       "      <td>117</td>\n",
       "      <td>145</td>\n",
       "      <td>115</td>\n",
       "      <td>142</td>\n",
       "      <td>139</td>\n",
       "      <td>119</td>\n",
       "      <td>148</td>\n",
       "      <td>70</td>\n",
       "      <td>73</td>\n",
       "      <td>47</td>\n",
       "      <td>54</td>\n",
       "      <td>70</td>\n",
       "      <td>83</td>\n",
       "      <td>45</td>\n",
       "      <td>486</td>\n",
       "      <td>411</td>\n",
       "      <td>281</td>\n",
       "      <td>401</td>\n",
       "      <td>335</td>\n",
       "      <td>335</td>\n",
       "      <td>248</td>\n",
       "      <td>1119589363</td>\n",
       "      <td>1356650474</td>\n",
       "      <td>26605</td>\n",
       "      <td>11442</td>\n",
       "      <td>27700</td>\n",
       "      <td>1327686</td>\n",
       "      <td>1230833</td>\n",
       "    </tr>\n",
       "    <tr>\n",
       "      <th>1</th>\n",
       "      <td>71dc98becc3ddc9775f6e54485929927dd106b6e</td>\n",
       "      <td>1357045523</td>\n",
       "      <td>2</td>\n",
       "      <td>1</td>\n",
       "      <td>1356777264</td>\n",
       "      <td>6</td>\n",
       "      <td>7</td>\n",
       "      <td>11</td>\n",
       "      <td>2</td>\n",
       "      <td>0</td>\n",
       "      <td>0</td>\n",
       "      <td>0</td>\n",
       "      <td>1</td>\n",
       "      <td>10</td>\n",
       "      <td>16</td>\n",
       "      <td>15</td>\n",
       "      <td>0</td>\n",
       "      <td>8528</td>\n",
       "      <td>gmail.com</td>\n",
       "      <td>0</td>\n",
       "      <td>0</td>\n",
       "      <td>0</td>\n",
       "      <td>0</td>\n",
       "      <td>0</td>\n",
       "      <td>0</td>\n",
       "      <td>0</td>\n",
       "      <td>0</td>\n",
       "      <td>0</td>\n",
       "      <td>0</td>\n",
       "      <td>0</td>\n",
       "      <td>0</td>\n",
       "      <td>0</td>\n",
       "      <td>0</td>\n",
       "      <td>0</td>\n",
       "      <td>0</td>\n",
       "      <td>0</td>\n",
       "      <td>0</td>\n",
       "      <td>0</td>\n",
       "      <td>0</td>\n",
       "      <td>0</td>\n",
       "      <td>0</td>\n",
       "      <td>0</td>\n",
       "      <td>0</td>\n",
       "      <td>0</td>\n",
       "      <td>0</td>\n",
       "      <td>0</td>\n",
       "      <td>0</td>\n",
       "      <td>0</td>\n",
       "      <td>0</td>\n",
       "      <td>0</td>\n",
       "      <td>0</td>\n",
       "      <td>0</td>\n",
       "      <td>0</td>\n",
       "      <td>130</td>\n",
       "      <td>3</td>\n",
       "      <td>3</td>\n",
       "      <td>2</td>\n",
       "      <td>2</td>\n",
       "      <td>2</td>\n",
       "      <td>1</td>\n",
       "      <td>8</td>\n",
       "      <td>10</td>\n",
       "      <td>13</td>\n",
       "      <td>7</td>\n",
       "      <td>0</td>\n",
       "      <td>1</td>\n",
       "      <td>3</td>\n",
       "      <td>1</td>\n",
       "      <td>12</td>\n",
       "      <td>18</td>\n",
       "      <td>7</td>\n",
       "      <td>7</td>\n",
       "      <td>14</td>\n",
       "      <td>7</td>\n",
       "      <td>2</td>\n",
       "      <td>3</td>\n",
       "      <td>3</td>\n",
       "      <td>1</td>\n",
       "      <td>18</td>\n",
       "      <td>7</td>\n",
       "      <td>16</td>\n",
       "      <td>8</td>\n",
       "      <td>10</td>\n",
       "      <td>26</td>\n",
       "      <td>45</td>\n",
       "      <td>1283029657</td>\n",
       "      <td>1356777264</td>\n",
       "      <td>1516</td>\n",
       "      <td>230</td>\n",
       "      <td>709</td>\n",
       "      <td>9880</td>\n",
       "      <td>5244</td>\n",
       "      <td>573</td>\n",
       "      <td>kernel.org</td>\n",
       "      <td>15657</td>\n",
       "      <td>952</td>\n",
       "      <td>813</td>\n",
       "      <td>665</td>\n",
       "      <td>252</td>\n",
       "      <td>386</td>\n",
       "      <td>332</td>\n",
       "      <td>287</td>\n",
       "      <td>804</td>\n",
       "      <td>1260</td>\n",
       "      <td>1450</td>\n",
       "      <td>169</td>\n",
       "      <td>721</td>\n",
       "      <td>1531</td>\n",
       "      <td>429</td>\n",
       "      <td>924</td>\n",
       "      <td>798</td>\n",
       "      <td>342</td>\n",
       "      <td>1154</td>\n",
       "      <td>618</td>\n",
       "      <td>964</td>\n",
       "      <td>444</td>\n",
       "      <td>97</td>\n",
       "      <td>140</td>\n",
       "      <td>125</td>\n",
       "      <td>3141</td>\n",
       "      <td>2626</td>\n",
       "      <td>2334</td>\n",
       "      <td>1988</td>\n",
       "      <td>2235</td>\n",
       "      <td>1566</td>\n",
       "      <td>1767</td>\n",
       "      <td>1134989639</td>\n",
       "      <td>1357045523</td>\n",
       "      <td>2497</td>\n",
       "      <td>115</td>\n",
       "      <td>176</td>\n",
       "      <td>104</td>\n",
       "      <td>86</td>\n",
       "      <td>39</td>\n",
       "      <td>76</td>\n",
       "      <td>69</td>\n",
       "      <td>94</td>\n",
       "      <td>165</td>\n",
       "      <td>206</td>\n",
       "      <td>117</td>\n",
       "      <td>145</td>\n",
       "      <td>115</td>\n",
       "      <td>142</td>\n",
       "      <td>139</td>\n",
       "      <td>119</td>\n",
       "      <td>148</td>\n",
       "      <td>70</td>\n",
       "      <td>73</td>\n",
       "      <td>47</td>\n",
       "      <td>54</td>\n",
       "      <td>70</td>\n",
       "      <td>83</td>\n",
       "      <td>45</td>\n",
       "      <td>486</td>\n",
       "      <td>411</td>\n",
       "      <td>281</td>\n",
       "      <td>401</td>\n",
       "      <td>335</td>\n",
       "      <td>335</td>\n",
       "      <td>248</td>\n",
       "      <td>1119589363</td>\n",
       "      <td>1356650474</td>\n",
       "      <td>26605</td>\n",
       "      <td>11442</td>\n",
       "      <td>27700</td>\n",
       "      <td>1327686</td>\n",
       "      <td>1230833</td>\n",
       "    </tr>\n",
       "    <tr>\n",
       "      <th>2</th>\n",
       "      <td>8cd7085ff460ead3aba6174052a408f4ad52ac36</td>\n",
       "      <td>1357046306</td>\n",
       "      <td>2</td>\n",
       "      <td>1</td>\n",
       "      <td>1357041266</td>\n",
       "      <td>2</td>\n",
       "      <td>8</td>\n",
       "      <td>9</td>\n",
       "      <td>2</td>\n",
       "      <td>0</td>\n",
       "      <td>0</td>\n",
       "      <td>0</td>\n",
       "      <td>1</td>\n",
       "      <td>1</td>\n",
       "      <td>2</td>\n",
       "      <td>2</td>\n",
       "      <td>0</td>\n",
       "      <td>11219</td>\n",
       "      <td>googlemail.com</td>\n",
       "      <td>0</td>\n",
       "      <td>0</td>\n",
       "      <td>0</td>\n",
       "      <td>0</td>\n",
       "      <td>0</td>\n",
       "      <td>0</td>\n",
       "      <td>0</td>\n",
       "      <td>0</td>\n",
       "      <td>0</td>\n",
       "      <td>0</td>\n",
       "      <td>0</td>\n",
       "      <td>0</td>\n",
       "      <td>0</td>\n",
       "      <td>0</td>\n",
       "      <td>0</td>\n",
       "      <td>0</td>\n",
       "      <td>0</td>\n",
       "      <td>0</td>\n",
       "      <td>0</td>\n",
       "      <td>0</td>\n",
       "      <td>0</td>\n",
       "      <td>0</td>\n",
       "      <td>0</td>\n",
       "      <td>0</td>\n",
       "      <td>0</td>\n",
       "      <td>0</td>\n",
       "      <td>0</td>\n",
       "      <td>0</td>\n",
       "      <td>0</td>\n",
       "      <td>0</td>\n",
       "      <td>0</td>\n",
       "      <td>0</td>\n",
       "      <td>0</td>\n",
       "      <td>0</td>\n",
       "      <td>10</td>\n",
       "      <td>0</td>\n",
       "      <td>0</td>\n",
       "      <td>0</td>\n",
       "      <td>0</td>\n",
       "      <td>2</td>\n",
       "      <td>0</td>\n",
       "      <td>0</td>\n",
       "      <td>2</td>\n",
       "      <td>1</td>\n",
       "      <td>0</td>\n",
       "      <td>0</td>\n",
       "      <td>0</td>\n",
       "      <td>0</td>\n",
       "      <td>0</td>\n",
       "      <td>0</td>\n",
       "      <td>1</td>\n",
       "      <td>0</td>\n",
       "      <td>1</td>\n",
       "      <td>3</td>\n",
       "      <td>0</td>\n",
       "      <td>0</td>\n",
       "      <td>0</td>\n",
       "      <td>0</td>\n",
       "      <td>0</td>\n",
       "      <td>0</td>\n",
       "      <td>5</td>\n",
       "      <td>3</td>\n",
       "      <td>2</td>\n",
       "      <td>0</td>\n",
       "      <td>0</td>\n",
       "      <td>0</td>\n",
       "      <td>1338322767</td>\n",
       "      <td>1357041266</td>\n",
       "      <td>114</td>\n",
       "      <td>18</td>\n",
       "      <td>35</td>\n",
       "      <td>329</td>\n",
       "      <td>62</td>\n",
       "      <td>573</td>\n",
       "      <td>kernel.org</td>\n",
       "      <td>15658</td>\n",
       "      <td>952</td>\n",
       "      <td>814</td>\n",
       "      <td>665</td>\n",
       "      <td>252</td>\n",
       "      <td>386</td>\n",
       "      <td>332</td>\n",
       "      <td>287</td>\n",
       "      <td>804</td>\n",
       "      <td>1260</td>\n",
       "      <td>1450</td>\n",
       "      <td>169</td>\n",
       "      <td>721</td>\n",
       "      <td>1531</td>\n",
       "      <td>429</td>\n",
       "      <td>924</td>\n",
       "      <td>798</td>\n",
       "      <td>342</td>\n",
       "      <td>1154</td>\n",
       "      <td>618</td>\n",
       "      <td>964</td>\n",
       "      <td>444</td>\n",
       "      <td>97</td>\n",
       "      <td>140</td>\n",
       "      <td>125</td>\n",
       "      <td>3141</td>\n",
       "      <td>2627</td>\n",
       "      <td>2334</td>\n",
       "      <td>1988</td>\n",
       "      <td>2235</td>\n",
       "      <td>1566</td>\n",
       "      <td>1767</td>\n",
       "      <td>1134989639</td>\n",
       "      <td>1357046306</td>\n",
       "      <td>2497</td>\n",
       "      <td>115</td>\n",
       "      <td>176</td>\n",
       "      <td>104</td>\n",
       "      <td>86</td>\n",
       "      <td>39</td>\n",
       "      <td>76</td>\n",
       "      <td>69</td>\n",
       "      <td>94</td>\n",
       "      <td>165</td>\n",
       "      <td>206</td>\n",
       "      <td>117</td>\n",
       "      <td>145</td>\n",
       "      <td>115</td>\n",
       "      <td>142</td>\n",
       "      <td>139</td>\n",
       "      <td>119</td>\n",
       "      <td>148</td>\n",
       "      <td>70</td>\n",
       "      <td>73</td>\n",
       "      <td>47</td>\n",
       "      <td>54</td>\n",
       "      <td>70</td>\n",
       "      <td>83</td>\n",
       "      <td>45</td>\n",
       "      <td>486</td>\n",
       "      <td>411</td>\n",
       "      <td>281</td>\n",
       "      <td>401</td>\n",
       "      <td>335</td>\n",
       "      <td>335</td>\n",
       "      <td>248</td>\n",
       "      <td>1119589363</td>\n",
       "      <td>1356650474</td>\n",
       "      <td>26605</td>\n",
       "      <td>11442</td>\n",
       "      <td>27700</td>\n",
       "      <td>1327686</td>\n",
       "      <td>1230833</td>\n",
       "    </tr>\n",
       "    <tr>\n",
       "      <th>3</th>\n",
       "      <td>d9699088e4bfaff1778d26192756a5894c3f947b</td>\n",
       "      <td>1357048863</td>\n",
       "      <td>2</td>\n",
       "      <td>2</td>\n",
       "      <td>1356953193</td>\n",
       "      <td>1</td>\n",
       "      <td>8</td>\n",
       "      <td>9</td>\n",
       "      <td>2</td>\n",
       "      <td>0</td>\n",
       "      <td>0</td>\n",
       "      <td>0</td>\n",
       "      <td>1</td>\n",
       "      <td>1</td>\n",
       "      <td>1</td>\n",
       "      <td>4</td>\n",
       "      <td>0</td>\n",
       "      <td>7086</td>\n",
       "      <td>ideasonboard.com</td>\n",
       "      <td>119</td>\n",
       "      <td>0</td>\n",
       "      <td>0</td>\n",
       "      <td>6</td>\n",
       "      <td>0</td>\n",
       "      <td>0</td>\n",
       "      <td>0</td>\n",
       "      <td>0</td>\n",
       "      <td>0</td>\n",
       "      <td>16</td>\n",
       "      <td>0</td>\n",
       "      <td>33</td>\n",
       "      <td>0</td>\n",
       "      <td>8</td>\n",
       "      <td>0</td>\n",
       "      <td>1</td>\n",
       "      <td>0</td>\n",
       "      <td>0</td>\n",
       "      <td>0</td>\n",
       "      <td>0</td>\n",
       "      <td>0</td>\n",
       "      <td>0</td>\n",
       "      <td>0</td>\n",
       "      <td>55</td>\n",
       "      <td>0</td>\n",
       "      <td>55</td>\n",
       "      <td>5</td>\n",
       "      <td>4</td>\n",
       "      <td>10</td>\n",
       "      <td>45</td>\n",
       "      <td>0</td>\n",
       "      <td>0</td>\n",
       "      <td>1313734271</td>\n",
       "      <td>1347964102</td>\n",
       "      <td>540</td>\n",
       "      <td>23</td>\n",
       "      <td>16</td>\n",
       "      <td>12</td>\n",
       "      <td>12</td>\n",
       "      <td>11</td>\n",
       "      <td>21</td>\n",
       "      <td>16</td>\n",
       "      <td>13</td>\n",
       "      <td>52</td>\n",
       "      <td>67</td>\n",
       "      <td>49</td>\n",
       "      <td>65</td>\n",
       "      <td>35</td>\n",
       "      <td>34</td>\n",
       "      <td>15</td>\n",
       "      <td>8</td>\n",
       "      <td>19</td>\n",
       "      <td>14</td>\n",
       "      <td>23</td>\n",
       "      <td>2</td>\n",
       "      <td>11</td>\n",
       "      <td>4</td>\n",
       "      <td>8</td>\n",
       "      <td>10</td>\n",
       "      <td>56</td>\n",
       "      <td>94</td>\n",
       "      <td>160</td>\n",
       "      <td>83</td>\n",
       "      <td>75</td>\n",
       "      <td>24</td>\n",
       "      <td>48</td>\n",
       "      <td>1249549540</td>\n",
       "      <td>1356953193</td>\n",
       "      <td>5931</td>\n",
       "      <td>1419</td>\n",
       "      <td>3266</td>\n",
       "      <td>46129</td>\n",
       "      <td>13566</td>\n",
       "      <td>573</td>\n",
       "      <td>kernel.org</td>\n",
       "      <td>15659</td>\n",
       "      <td>952</td>\n",
       "      <td>814</td>\n",
       "      <td>666</td>\n",
       "      <td>252</td>\n",
       "      <td>386</td>\n",
       "      <td>332</td>\n",
       "      <td>287</td>\n",
       "      <td>804</td>\n",
       "      <td>1260</td>\n",
       "      <td>1450</td>\n",
       "      <td>169</td>\n",
       "      <td>721</td>\n",
       "      <td>1531</td>\n",
       "      <td>429</td>\n",
       "      <td>924</td>\n",
       "      <td>798</td>\n",
       "      <td>342</td>\n",
       "      <td>1154</td>\n",
       "      <td>618</td>\n",
       "      <td>964</td>\n",
       "      <td>444</td>\n",
       "      <td>97</td>\n",
       "      <td>140</td>\n",
       "      <td>125</td>\n",
       "      <td>3141</td>\n",
       "      <td>2628</td>\n",
       "      <td>2334</td>\n",
       "      <td>1988</td>\n",
       "      <td>2235</td>\n",
       "      <td>1566</td>\n",
       "      <td>1767</td>\n",
       "      <td>1134989639</td>\n",
       "      <td>1357048863</td>\n",
       "      <td>2497</td>\n",
       "      <td>115</td>\n",
       "      <td>176</td>\n",
       "      <td>104</td>\n",
       "      <td>86</td>\n",
       "      <td>39</td>\n",
       "      <td>76</td>\n",
       "      <td>69</td>\n",
       "      <td>94</td>\n",
       "      <td>165</td>\n",
       "      <td>206</td>\n",
       "      <td>117</td>\n",
       "      <td>145</td>\n",
       "      <td>115</td>\n",
       "      <td>142</td>\n",
       "      <td>139</td>\n",
       "      <td>119</td>\n",
       "      <td>148</td>\n",
       "      <td>70</td>\n",
       "      <td>73</td>\n",
       "      <td>47</td>\n",
       "      <td>54</td>\n",
       "      <td>70</td>\n",
       "      <td>83</td>\n",
       "      <td>45</td>\n",
       "      <td>486</td>\n",
       "      <td>411</td>\n",
       "      <td>281</td>\n",
       "      <td>401</td>\n",
       "      <td>335</td>\n",
       "      <td>335</td>\n",
       "      <td>248</td>\n",
       "      <td>1119589363</td>\n",
       "      <td>1356650474</td>\n",
       "      <td>26605</td>\n",
       "      <td>11442</td>\n",
       "      <td>27700</td>\n",
       "      <td>1327686</td>\n",
       "      <td>1230833</td>\n",
       "    </tr>\n",
       "    <tr>\n",
       "      <th>4</th>\n",
       "      <td>4389fbec5b8fd0577c1e854ff5d7139329558c20</td>\n",
       "      <td>1357061910</td>\n",
       "      <td>2</td>\n",
       "      <td>7</td>\n",
       "      <td>1356909960</td>\n",
       "      <td>7</td>\n",
       "      <td>23</td>\n",
       "      <td>8</td>\n",
       "      <td>2</td>\n",
       "      <td>0</td>\n",
       "      <td>0</td>\n",
       "      <td>0</td>\n",
       "      <td>1</td>\n",
       "      <td>5</td>\n",
       "      <td>6</td>\n",
       "      <td>55</td>\n",
       "      <td>0</td>\n",
       "      <td>7276</td>\n",
       "      <td>pmeerw.net</td>\n",
       "      <td>0</td>\n",
       "      <td>0</td>\n",
       "      <td>0</td>\n",
       "      <td>0</td>\n",
       "      <td>0</td>\n",
       "      <td>0</td>\n",
       "      <td>0</td>\n",
       "      <td>0</td>\n",
       "      <td>0</td>\n",
       "      <td>0</td>\n",
       "      <td>0</td>\n",
       "      <td>0</td>\n",
       "      <td>0</td>\n",
       "      <td>0</td>\n",
       "      <td>0</td>\n",
       "      <td>0</td>\n",
       "      <td>0</td>\n",
       "      <td>0</td>\n",
       "      <td>0</td>\n",
       "      <td>0</td>\n",
       "      <td>0</td>\n",
       "      <td>0</td>\n",
       "      <td>0</td>\n",
       "      <td>0</td>\n",
       "      <td>0</td>\n",
       "      <td>0</td>\n",
       "      <td>0</td>\n",
       "      <td>0</td>\n",
       "      <td>0</td>\n",
       "      <td>0</td>\n",
       "      <td>0</td>\n",
       "      <td>0</td>\n",
       "      <td>0</td>\n",
       "      <td>0</td>\n",
       "      <td>80</td>\n",
       "      <td>2</td>\n",
       "      <td>1</td>\n",
       "      <td>8</td>\n",
       "      <td>3</td>\n",
       "      <td>1</td>\n",
       "      <td>0</td>\n",
       "      <td>0</td>\n",
       "      <td>1</td>\n",
       "      <td>3</td>\n",
       "      <td>12</td>\n",
       "      <td>0</td>\n",
       "      <td>1</td>\n",
       "      <td>0</td>\n",
       "      <td>3</td>\n",
       "      <td>1</td>\n",
       "      <td>2</td>\n",
       "      <td>0</td>\n",
       "      <td>6</td>\n",
       "      <td>4</td>\n",
       "      <td>7</td>\n",
       "      <td>11</td>\n",
       "      <td>0</td>\n",
       "      <td>3</td>\n",
       "      <td>11</td>\n",
       "      <td>24</td>\n",
       "      <td>2</td>\n",
       "      <td>11</td>\n",
       "      <td>11</td>\n",
       "      <td>13</td>\n",
       "      <td>10</td>\n",
       "      <td>9</td>\n",
       "      <td>1260798296</td>\n",
       "      <td>1356909960</td>\n",
       "      <td>682</td>\n",
       "      <td>112</td>\n",
       "      <td>278</td>\n",
       "      <td>1678</td>\n",
       "      <td>686</td>\n",
       "      <td>10416</td>\n",
       "      <td>kernel.org</td>\n",
       "      <td>291</td>\n",
       "      <td>45</td>\n",
       "      <td>0</td>\n",
       "      <td>2</td>\n",
       "      <td>0</td>\n",
       "      <td>0</td>\n",
       "      <td>4</td>\n",
       "      <td>3</td>\n",
       "      <td>1</td>\n",
       "      <td>5</td>\n",
       "      <td>19</td>\n",
       "      <td>67</td>\n",
       "      <td>9</td>\n",
       "      <td>12</td>\n",
       "      <td>4</td>\n",
       "      <td>0</td>\n",
       "      <td>0</td>\n",
       "      <td>22</td>\n",
       "      <td>11</td>\n",
       "      <td>20</td>\n",
       "      <td>5</td>\n",
       "      <td>28</td>\n",
       "      <td>12</td>\n",
       "      <td>22</td>\n",
       "      <td>0</td>\n",
       "      <td>70</td>\n",
       "      <td>16</td>\n",
       "      <td>5</td>\n",
       "      <td>51</td>\n",
       "      <td>49</td>\n",
       "      <td>71</td>\n",
       "      <td>29</td>\n",
       "      <td>1341047541</td>\n",
       "      <td>1357061910</td>\n",
       "      <td>111</td>\n",
       "      <td>4</td>\n",
       "      <td>5</td>\n",
       "      <td>16</td>\n",
       "      <td>0</td>\n",
       "      <td>6</td>\n",
       "      <td>0</td>\n",
       "      <td>0</td>\n",
       "      <td>0</td>\n",
       "      <td>0</td>\n",
       "      <td>3</td>\n",
       "      <td>33</td>\n",
       "      <td>5</td>\n",
       "      <td>0</td>\n",
       "      <td>3</td>\n",
       "      <td>0</td>\n",
       "      <td>6</td>\n",
       "      <td>0</td>\n",
       "      <td>14</td>\n",
       "      <td>2</td>\n",
       "      <td>2</td>\n",
       "      <td>6</td>\n",
       "      <td>6</td>\n",
       "      <td>0</td>\n",
       "      <td>0</td>\n",
       "      <td>18</td>\n",
       "      <td>8</td>\n",
       "      <td>10</td>\n",
       "      <td>1</td>\n",
       "      <td>18</td>\n",
       "      <td>35</td>\n",
       "      <td>21</td>\n",
       "      <td>1323121032</td>\n",
       "      <td>1353522266</td>\n",
       "      <td>1086</td>\n",
       "      <td>464</td>\n",
       "      <td>813</td>\n",
       "      <td>11814</td>\n",
       "      <td>11452</td>\n",
       "    </tr>\n",
       "  </tbody>\n",
       "</table>\n",
       "</div>"
      ],
      "text/plain": [
       "                                       hash  committer_timestamp  \\\n",
       "0  e003ae399c160e00c1a882dc6dd4f0ef855ae616           1357041880   \n",
       "1  71dc98becc3ddc9775f6e54485929927dd106b6e           1357045523   \n",
       "2  8cd7085ff460ead3aba6174052a408f4ad52ac36           1357046306   \n",
       "3  d9699088e4bfaff1778d26192756a5894c3f947b           1357048863   \n",
       "4  4389fbec5b8fd0577c1e854ff5d7139329558c20           1357061910   \n",
       "\n",
       "   committer_wday  committer_hour  author_timestamp  author_wday  author_hour  \\\n",
       "0               2               0        1353669155            5            8   \n",
       "1               2               1        1356777264            6            7   \n",
       "2               2               1        1357041266            2            8   \n",
       "3               2               2        1356953193            1            8   \n",
       "4               2               7        1356909960            7           23   \n",
       "\n",
       "   commit_message_lines  signed_offs  testeds  reviews  fixes  changed_files  \\\n",
       "0                    10            2        0        0      0              1   \n",
       "1                    11            2        0        0      0              1   \n",
       "2                     9            2        0        0      0              1   \n",
       "3                     9            2        0        0      0              1   \n",
       "4                     8            2        0        0      0              1   \n",
       "\n",
       "   hunks  lines_added  lines_removed  fixed  author_id author_email_domain  \\\n",
       "0      1            2              2      0      10759           gmail.com   \n",
       "1     10           16             15      0       8528           gmail.com   \n",
       "2      1            2              2      0      11219      googlemail.com   \n",
       "3      1            1              4      0       7086    ideasonboard.com   \n",
       "4      5            6             55      0       7276          pmeerw.net   \n",
       "\n",
       "   author_commits  author_committer_hour_00  author_committer_hour_01  \\\n",
       "0               0                         0                         0   \n",
       "1               0                         0                         0   \n",
       "2               0                         0                         0   \n",
       "3             119                         0                         0   \n",
       "4               0                         0                         0   \n",
       "\n",
       "   author_committer_hour_02  author_committer_hour_03  \\\n",
       "0                         0                         0   \n",
       "1                         0                         0   \n",
       "2                         0                         0   \n",
       "3                         6                         0   \n",
       "4                         0                         0   \n",
       "\n",
       "   author_committer_hour_04  author_committer_hour_05  \\\n",
       "0                         0                         0   \n",
       "1                         0                         0   \n",
       "2                         0                         0   \n",
       "3                         0                         0   \n",
       "4                         0                         0   \n",
       "\n",
       "   author_committer_hour_06  author_committer_hour_07  \\\n",
       "0                         0                         0   \n",
       "1                         0                         0   \n",
       "2                         0                         0   \n",
       "3                         0                         0   \n",
       "4                         0                         0   \n",
       "\n",
       "   author_committer_hour_08  author_committer_hour_09  \\\n",
       "0                         0                         0   \n",
       "1                         0                         0   \n",
       "2                         0                         0   \n",
       "3                        16                         0   \n",
       "4                         0                         0   \n",
       "\n",
       "   author_committer_hour_10  author_committer_hour_11  \\\n",
       "0                         0                         0   \n",
       "1                         0                         0   \n",
       "2                         0                         0   \n",
       "3                        33                         0   \n",
       "4                         0                         0   \n",
       "\n",
       "   author_committer_hour_12  author_committer_hour_13  \\\n",
       "0                         0                         0   \n",
       "1                         0                         0   \n",
       "2                         0                         0   \n",
       "3                         8                         0   \n",
       "4                         0                         0   \n",
       "\n",
       "   author_committer_hour_14  author_committer_hour_15  \\\n",
       "0                         0                         0   \n",
       "1                         0                         0   \n",
       "2                         0                         0   \n",
       "3                         1                         0   \n",
       "4                         0                         0   \n",
       "\n",
       "   author_committer_hour_16  author_committer_hour_17  \\\n",
       "0                         0                         0   \n",
       "1                         0                         0   \n",
       "2                         0                         0   \n",
       "3                         0                         0   \n",
       "4                         0                         0   \n",
       "\n",
       "   author_committer_hour_18  author_committer_hour_19  \\\n",
       "0                         0                         0   \n",
       "1                         0                         0   \n",
       "2                         0                         0   \n",
       "3                         0                         0   \n",
       "4                         0                         0   \n",
       "\n",
       "   author_committer_hour_20  author_committer_hour_21  \\\n",
       "0                         0                         0   \n",
       "1                         0                         0   \n",
       "2                         0                         0   \n",
       "3                         0                         0   \n",
       "4                         0                         0   \n",
       "\n",
       "   author_committer_hour_22  author_committer_hour_23  \\\n",
       "0                         0                         0   \n",
       "1                         0                         0   \n",
       "2                         0                         0   \n",
       "3                        55                         0   \n",
       "4                         0                         0   \n",
       "\n",
       "   author_committer_wday_1  author_committer_wday_2  author_committer_wday_3  \\\n",
       "0                        0                        0                        0   \n",
       "1                        0                        0                        0   \n",
       "2                        0                        0                        0   \n",
       "3                       55                        5                        4   \n",
       "4                        0                        0                        0   \n",
       "\n",
       "   author_committer_wday_4  author_committer_wday_5  author_committer_wday_6  \\\n",
       "0                        0                        0                        0   \n",
       "1                        0                        0                        0   \n",
       "2                        0                        0                        0   \n",
       "3                       10                       45                        0   \n",
       "4                        0                        0                        0   \n",
       "\n",
       "   author_committer_wday_7  author_first_commit  author_last_commit  \\\n",
       "0                        0                    0                   0   \n",
       "1                        0                    0                   0   \n",
       "2                        0                    0                   0   \n",
       "3                        0           1313734271          1347964102   \n",
       "4                        0                    0                   0   \n",
       "\n",
       "   author_patches  author_author_hour_00  author_author_hour_01  \\\n",
       "0             125                      1                      0   \n",
       "1             130                      3                      3   \n",
       "2              10                      0                      0   \n",
       "3             540                     23                     16   \n",
       "4              80                      2                      1   \n",
       "\n",
       "   author_author_hour_02  author_author_hour_03  author_author_hour_04  \\\n",
       "0                      3                      1                      1   \n",
       "1                      2                      2                      2   \n",
       "2                      0                      0                      2   \n",
       "3                     12                     12                     11   \n",
       "4                      8                      3                      1   \n",
       "\n",
       "   author_author_hour_05  author_author_hour_06  author_author_hour_07  \\\n",
       "0                      0                      2                      9   \n",
       "1                      1                      8                     10   \n",
       "2                      0                      0                      2   \n",
       "3                     21                     16                     13   \n",
       "4                      0                      0                      1   \n",
       "\n",
       "   author_author_hour_08  author_author_hour_09  author_author_hour_10  \\\n",
       "0                      6                     27                      4   \n",
       "1                     13                      7                      0   \n",
       "2                      1                      0                      0   \n",
       "3                     52                     67                     49   \n",
       "4                      3                     12                      0   \n",
       "\n",
       "   author_author_hour_11  author_author_hour_12  author_author_hour_13  \\\n",
       "0                     14                     10                      2   \n",
       "1                      1                      3                      1   \n",
       "2                      0                      0                      0   \n",
       "3                     65                     35                     34   \n",
       "4                      1                      0                      3   \n",
       "\n",
       "   author_author_hour_14  author_author_hour_15  author_author_hour_16  \\\n",
       "0                      3                     27                      5   \n",
       "1                     12                     18                      7   \n",
       "2                      0                      1                      0   \n",
       "3                     15                      8                     19   \n",
       "4                      1                      2                      0   \n",
       "\n",
       "   author_author_hour_17  author_author_hour_18  author_author_hour_19  \\\n",
       "0                      0                      4                      0   \n",
       "1                      7                     14                      7   \n",
       "2                      1                      3                      0   \n",
       "3                     14                     23                      2   \n",
       "4                      6                      4                      7   \n",
       "\n",
       "   author_author_hour_20  author_author_hour_21  author_author_hour_22  \\\n",
       "0                      1                      5                      0   \n",
       "1                      2                      3                      3   \n",
       "2                      0                      0                      0   \n",
       "3                     11                      4                      8   \n",
       "4                     11                      0                      3   \n",
       "\n",
       "   author_author_hour_23  author_author_wday_1  author_author_wday_2  \\\n",
       "0                      0                    15                    32   \n",
       "1                      1                    18                     7   \n",
       "2                      0                     0                     5   \n",
       "3                     10                    56                    94   \n",
       "4                     11                    24                     2   \n",
       "\n",
       "   author_author_wday_3  author_author_wday_4  author_author_wday_5  \\\n",
       "0                    21                    15                    17   \n",
       "1                    16                     8                    10   \n",
       "2                     3                     2                     0   \n",
       "3                   160                    83                    75   \n",
       "4                    11                    11                    13   \n",
       "\n",
       "   author_author_wday_6  author_author_wday_7  author_first_patch  \\\n",
       "0                    20                     5          1329947174   \n",
       "1                    26                    45          1283029657   \n",
       "2                     0                     0          1338322767   \n",
       "3                    24                    48          1249549540   \n",
       "4                    10                     9          1260798296   \n",
       "\n",
       "   author_last_patch  author_commit_message_lines  author_changed_files  \\\n",
       "0         1354541500                         1638                   201   \n",
       "1         1356777264                         1516                   230   \n",
       "2         1357041266                          114                    18   \n",
       "3         1356953193                         5931                  1419   \n",
       "4         1356909960                          682                   112   \n",
       "\n",
       "   author_hunks  author_lines_added  author_lines_removed  committer_id  \\\n",
       "0           431                4568                 12509           573   \n",
       "1           709                9880                  5244           573   \n",
       "2            35                 329                    62           573   \n",
       "3          3266               46129                 13566           573   \n",
       "4           278                1678                   686         10416   \n",
       "\n",
       "  committer_email_domain  committer_commits  committer_committer_hour_00  \\\n",
       "0             kernel.org              15656                          952   \n",
       "1             kernel.org              15657                          952   \n",
       "2             kernel.org              15658                          952   \n",
       "3             kernel.org              15659                          952   \n",
       "4             kernel.org                291                           45   \n",
       "\n",
       "   committer_committer_hour_01  committer_committer_hour_02  \\\n",
       "0                          812                          665   \n",
       "1                          813                          665   \n",
       "2                          814                          665   \n",
       "3                          814                          666   \n",
       "4                            0                            2   \n",
       "\n",
       "   committer_committer_hour_03  committer_committer_hour_04  \\\n",
       "0                          252                          386   \n",
       "1                          252                          386   \n",
       "2                          252                          386   \n",
       "3                          252                          386   \n",
       "4                            0                            0   \n",
       "\n",
       "   committer_committer_hour_05  committer_committer_hour_06  \\\n",
       "0                          332                          287   \n",
       "1                          332                          287   \n",
       "2                          332                          287   \n",
       "3                          332                          287   \n",
       "4                            4                            3   \n",
       "\n",
       "   committer_committer_hour_07  committer_committer_hour_08  \\\n",
       "0                          804                         1260   \n",
       "1                          804                         1260   \n",
       "2                          804                         1260   \n",
       "3                          804                         1260   \n",
       "4                            1                            5   \n",
       "\n",
       "   committer_committer_hour_09  committer_committer_hour_10  \\\n",
       "0                         1450                          169   \n",
       "1                         1450                          169   \n",
       "2                         1450                          169   \n",
       "3                         1450                          169   \n",
       "4                           19                           67   \n",
       "\n",
       "   committer_committer_hour_11  committer_committer_hour_12  \\\n",
       "0                          721                         1531   \n",
       "1                          721                         1531   \n",
       "2                          721                         1531   \n",
       "3                          721                         1531   \n",
       "4                            9                           12   \n",
       "\n",
       "   committer_committer_hour_13  committer_committer_hour_14  \\\n",
       "0                          429                          924   \n",
       "1                          429                          924   \n",
       "2                          429                          924   \n",
       "3                          429                          924   \n",
       "4                            4                            0   \n",
       "\n",
       "   committer_committer_hour_15  committer_committer_hour_16  \\\n",
       "0                          798                          342   \n",
       "1                          798                          342   \n",
       "2                          798                          342   \n",
       "3                          798                          342   \n",
       "4                            0                           22   \n",
       "\n",
       "   committer_committer_hour_17  committer_committer_hour_18  \\\n",
       "0                         1154                          618   \n",
       "1                         1154                          618   \n",
       "2                         1154                          618   \n",
       "3                         1154                          618   \n",
       "4                           11                           20   \n",
       "\n",
       "   committer_committer_hour_19  committer_committer_hour_20  \\\n",
       "0                          964                          444   \n",
       "1                          964                          444   \n",
       "2                          964                          444   \n",
       "3                          964                          444   \n",
       "4                            5                           28   \n",
       "\n",
       "   committer_committer_hour_21  committer_committer_hour_22  \\\n",
       "0                           97                          140   \n",
       "1                           97                          140   \n",
       "2                           97                          140   \n",
       "3                           97                          140   \n",
       "4                           12                           22   \n",
       "\n",
       "   committer_committer_hour_23  committer_committer_wday_1  \\\n",
       "0                          125                        3141   \n",
       "1                          125                        3141   \n",
       "2                          125                        3141   \n",
       "3                          125                        3141   \n",
       "4                            0                          70   \n",
       "\n",
       "   committer_committer_wday_2  committer_committer_wday_3  \\\n",
       "0                        2625                        2334   \n",
       "1                        2626                        2334   \n",
       "2                        2627                        2334   \n",
       "3                        2628                        2334   \n",
       "4                          16                           5   \n",
       "\n",
       "   committer_committer_wday_4  committer_committer_wday_5  \\\n",
       "0                        1988                        2235   \n",
       "1                        1988                        2235   \n",
       "2                        1988                        2235   \n",
       "3                        1988                        2235   \n",
       "4                          51                          49   \n",
       "\n",
       "   committer_committer_wday_6  committer_committer_wday_7  \\\n",
       "0                        1566                        1767   \n",
       "1                        1566                        1767   \n",
       "2                        1566                        1767   \n",
       "3                        1566                        1767   \n",
       "4                          71                          29   \n",
       "\n",
       "   committer_first_commit  committer_last_commit  committer_patches  \\\n",
       "0              1134989639             1357041880               2497   \n",
       "1              1134989639             1357045523               2497   \n",
       "2              1134989639             1357046306               2497   \n",
       "3              1134989639             1357048863               2497   \n",
       "4              1341047541             1357061910                111   \n",
       "\n",
       "   committer_author_hour_00  committer_author_hour_01  \\\n",
       "0                       115                       176   \n",
       "1                       115                       176   \n",
       "2                       115                       176   \n",
       "3                       115                       176   \n",
       "4                         4                         5   \n",
       "\n",
       "   committer_author_hour_02  committer_author_hour_03  \\\n",
       "0                       104                        86   \n",
       "1                       104                        86   \n",
       "2                       104                        86   \n",
       "3                       104                        86   \n",
       "4                        16                         0   \n",
       "\n",
       "   committer_author_hour_04  committer_author_hour_05  \\\n",
       "0                        39                        76   \n",
       "1                        39                        76   \n",
       "2                        39                        76   \n",
       "3                        39                        76   \n",
       "4                         6                         0   \n",
       "\n",
       "   committer_author_hour_06  committer_author_hour_07  \\\n",
       "0                        69                        94   \n",
       "1                        69                        94   \n",
       "2                        69                        94   \n",
       "3                        69                        94   \n",
       "4                         0                         0   \n",
       "\n",
       "   committer_author_hour_08  committer_author_hour_09  \\\n",
       "0                       165                       206   \n",
       "1                       165                       206   \n",
       "2                       165                       206   \n",
       "3                       165                       206   \n",
       "4                         0                         3   \n",
       "\n",
       "   committer_author_hour_10  committer_author_hour_11  \\\n",
       "0                       117                       145   \n",
       "1                       117                       145   \n",
       "2                       117                       145   \n",
       "3                       117                       145   \n",
       "4                        33                         5   \n",
       "\n",
       "   committer_author_hour_12  committer_author_hour_13  \\\n",
       "0                       115                       142   \n",
       "1                       115                       142   \n",
       "2                       115                       142   \n",
       "3                       115                       142   \n",
       "4                         0                         3   \n",
       "\n",
       "   committer_author_hour_14  committer_author_hour_15  \\\n",
       "0                       139                       119   \n",
       "1                       139                       119   \n",
       "2                       139                       119   \n",
       "3                       139                       119   \n",
       "4                         0                         6   \n",
       "\n",
       "   committer_author_hour_16  committer_author_hour_17  \\\n",
       "0                       148                        70   \n",
       "1                       148                        70   \n",
       "2                       148                        70   \n",
       "3                       148                        70   \n",
       "4                         0                        14   \n",
       "\n",
       "   committer_author_hour_18  committer_author_hour_19  \\\n",
       "0                        73                        47   \n",
       "1                        73                        47   \n",
       "2                        73                        47   \n",
       "3                        73                        47   \n",
       "4                         2                         2   \n",
       "\n",
       "   committer_author_hour_20  committer_author_hour_21  \\\n",
       "0                        54                        70   \n",
       "1                        54                        70   \n",
       "2                        54                        70   \n",
       "3                        54                        70   \n",
       "4                         6                         6   \n",
       "\n",
       "   committer_author_hour_22  committer_author_hour_23  \\\n",
       "0                        83                        45   \n",
       "1                        83                        45   \n",
       "2                        83                        45   \n",
       "3                        83                        45   \n",
       "4                         0                         0   \n",
       "\n",
       "   committer_author_wday_1  committer_author_wday_2  committer_author_wday_3  \\\n",
       "0                      486                      411                      281   \n",
       "1                      486                      411                      281   \n",
       "2                      486                      411                      281   \n",
       "3                      486                      411                      281   \n",
       "4                       18                        8                       10   \n",
       "\n",
       "   committer_author_wday_4  committer_author_wday_5  committer_author_wday_6  \\\n",
       "0                      401                      335                      335   \n",
       "1                      401                      335                      335   \n",
       "2                      401                      335                      335   \n",
       "3                      401                      335                      335   \n",
       "4                        1                       18                       35   \n",
       "\n",
       "   committer_author_wday_7  committer_first_patch  committer_last_patch  \\\n",
       "0                      248             1119589363            1356650474   \n",
       "1                      248             1119589363            1356650474   \n",
       "2                      248             1119589363            1356650474   \n",
       "3                      248             1119589363            1356650474   \n",
       "4                       21             1323121032            1353522266   \n",
       "\n",
       "   committer_commit_message_lines  committer_changed_files  committer_hunks  \\\n",
       "0                           26605                    11442            27700   \n",
       "1                           26605                    11442            27700   \n",
       "2                           26605                    11442            27700   \n",
       "3                           26605                    11442            27700   \n",
       "4                            1086                      464              813   \n",
       "\n",
       "   committer_lines_added  committer_lines_removed  \n",
       "0                1327686                  1230833  \n",
       "1                1327686                  1230833  \n",
       "2                1327686                  1230833  \n",
       "3                1327686                  1230833  \n",
       "4                  11814                    11452  "
      ]
     },
     "execution_count": 3,
     "metadata": {},
     "output_type": "execute_result"
    }
   ],
   "source": [
    "pd.set_option('display.max_columns', 500)\n",
    "commits.head()"
   ]
  },
  {
   "cell_type": "code",
   "execution_count": 4,
   "metadata": {},
   "outputs": [
    {
     "name": "stdout",
     "output_type": "stream",
     "text": [
      "lines added: 27420276\n",
      "lines removed: 17278976\n"
     ]
    }
   ],
   "source": [
    "print(\"lines added: {}\".format(np.sum(commits['lines_added'])))\n",
    "print(\"lines removed: {}\".format(np.sum(commits['lines_removed'])))"
   ]
  },
  {
   "cell_type": "code",
   "execution_count": 5,
   "metadata": {},
   "outputs": [
    {
     "name": "stdout",
     "output_type": "stream",
     "text": [
      "Commits without hunks 47\n",
      "Thereof fixed 0\n"
     ]
    },
    {
     "name": "stderr",
     "output_type": "stream",
     "text": [
      "/usr/lib/python3/dist-packages/ipykernel_launcher.py:3: UserWarning: Boolean Series key will be reindexed to match DataFrame index.\n",
      "  This is separate from the ipykernel package so we can avoid doing imports until\n"
     ]
    }
   ],
   "source": [
    "# Some patches do not change any line but only file attributes.\n",
    "print(\"Commits without hunks {}\".format(commits[commits['hunks']==0].shape[0]))\n",
    "print(\"Thereof fixed {}\".format(commits[commits['hunks']==0][commits['fixed']>0].shape[0]))"
   ]
  },
  {
   "cell_type": "markdown",
   "metadata": {},
   "source": [
    "### Changes\n",
    "\n",
    "The Linux kernel v5.2.9 has 26,552,127 lines (https://de.wikipedia.org/wiki/Linux_%28Kernel%29). Since 2013 more lines were deleted than the 2013 kernel contained."
   ]
  },
  {
   "cell_type": "code",
   "execution_count": 6,
   "metadata": {},
   "outputs": [
    {
     "data": {
      "text/plain": [
       "(22012, 167)"
      ]
     },
     "execution_count": 6,
     "metadata": {},
     "output_type": "execute_result"
    }
   ],
   "source": [
    "fixed = commits[commits['fixed']>0];\n",
    "fixed.shape"
   ]
  },
  {
   "cell_type": "code",
   "execution_count": 7,
   "metadata": {},
   "outputs": [
    {
     "name": "stdout",
     "output_type": "stream",
     "text": [
      "Percentage of patches marked as fixed: 4.84 %\n"
     ]
    }
   ],
   "source": [
    "print(\"Percentage of patches marked as fixed:{:5.2f} %\".format(fixed.shape[0] / commits.shape[0] * 100))"
   ]
  },
  {
   "cell_type": "markdown",
   "metadata": {},
   "source": [
    "### Fixes:\n",
    "\n",
    "If a patch corrects an error created by a previuous patch the patch may be marked with\n",
    "\n",
    "    \"Fixes: <hash> (\"<commit title>\")\n",
    "    \n",
    "(https://www.kernel.org/doc/html/v4.17/process/submitting-patches.html#using-reported-by-tested-by-reviewed-by-suggested-by-and-fixes)\n",
    "\n",
    "If a subsequent patch marks a commit as fixed, we can assume that it contained an error. On the other side a commit not being mentioned as fixed does not imply that it was free of errors:\n",
    "\n",
    "* an error has not yet been discovered\n",
    "* an error was discovered but was not (yet) fixed, e.g. a minor issue like using %d to print an unsigned integer\n",
    "* the author of a fix did not bother to mention the fixed patch\n",
    "* a patch with a 'Fixes:' message may have an invalid format so that the Gitlog Analyzer does not count it (e.g. the hash is too short). This concerns 757 commits since 2013."
   ]
  },
  {
   "cell_type": "markdown",
   "metadata": {},
   "source": [
    "### Influence of complexity\n",
    "\n",
    "It seems natural to assume that the more complex a change is, the more errorprone it is. Let's check."
   ]
  },
  {
   "cell_type": "code",
   "execution_count": 8,
   "metadata": {},
   "outputs": [],
   "source": [
    "def hist_side_by_side(title, ds1, ds2, bins, min, max, right_subtitle = 'Fixed commits'):\n",
    "    \"\"\"Print two histograms side by side\n",
    "    \n",
    "    title          -- title to print above the histograms\n",
    "    ds1            -- first dataframe\n",
    "    ds2            -- second data rame\n",
    "    bins           -- number of histogram bins to be used\n",
    "    min            -- minimum value of the x-axis\n",
    "    max            -- maximum value of the x-axis\n",
    "    right_subtitle -- subtitle of the second histogram\n",
    "    \"\"\"\n",
    "    \n",
    "    fig, ax = plt.subplots(nrows=1, ncols=2, figsize=(10, 5), squeeze=False)\n",
    "    fig.tight_layout()\n",
    "    fig.suptitle(title, fontsize=28, y=1.1)\n",
    "    \n",
    "    ax[0][0].title.set_text('All commits')\n",
    "    ax[0][1].title.set_text(right_subtitle)\n",
    "    \n",
    "    ds1.hist(bins=bins, range=(min, max), ax=ax[0][0])\n",
    "    ds2.hist(bins=bins, range=(min, max), ax=ax[0][1])\n",
    "\n",
    "    plt.show()"
   ]
  },
  {
   "cell_type": "code",
   "execution_count": 9,
   "metadata": {},
   "outputs": [
    {
     "data": {
      "image/png": "[encoded data removed]",
      "text/plain": [
       "<Figure size 720x360 with 2 Axes>"
      ]
     },
     "metadata": {
      "needs_background": "light"
     },
     "output_type": "display_data"
    },
    {
     "name": "stdout",
     "output_type": "stream",
     "text": [
      "mean number of changed files:\n",
      "all: 2.2306246579076365\n",
      "fixed: 3.929129565691441\n"
     ]
    }
   ],
   "source": [
    "hist_side_by_side('log10(changed files)',\n",
    "                  np.log10(commits['changed_files']), np.log10(fixed['changed_files']),\n",
    "                  20, 0, 1.5)\n",
    "print(\"mean number of changed files:\\nall: {}\\nfixed: {}\".format(\n",
    "      np.mean(commits[commits['changed_files']>0]['changed_files']),\n",
    "      np.mean(fixed[fixed['changed_files']>0]['changed_files'])))"
   ]
  },
  {
   "cell_type": "code",
   "execution_count": 10,
   "metadata": {
    "scrolled": true
   },
   "outputs": [
    {
     "data": {
      "image/png": "[encoded data removed]",
      "text/plain": [
       "<Figure size 720x360 with 2 Axes>"
      ]
     },
     "metadata": {
      "needs_background": "light"
     },
     "output_type": "display_data"
    },
    {
     "name": "stdout",
     "output_type": "stream",
     "text": [
      "mean number of hunks:\n",
      "all: 5.20612960951824\n",
      "fixed: 10.389514810103579\n"
     ]
    }
   ],
   "source": [
    "hist_side_by_side('log10(hunks)',\n",
    "                  np.log10(commits[commits['hunks']>0]['hunks']),\n",
    "                  np.log10(fixed[fixed['hunks']>0]['hunks']),\n",
    "                  20, 0, 3)\n",
    "print(\"mean number of hunks:\\nall: {}\\nfixed: {}\".format(\n",
    "      np.mean(commits[commits['hunks']>0]['hunks']),\n",
    "      np.mean(fixed[fixed['hunks']>0]['hunks'])))"
   ]
  },
  {
   "cell_type": "code",
   "execution_count": 11,
   "metadata": {},
   "outputs": [
    {
     "data": {
      "image/png": "[encoded data removed]",
      "text/plain": [
       "<Figure size 720x360 with 2 Axes>"
      ]
     },
     "metadata": {
      "needs_background": "light"
     },
     "output_type": "display_data"
    },
    {
     "name": "stdout",
     "output_type": "stream",
     "text": [
      "mean number of lines added:\n",
      "all: 60.28103606713068\n",
      "fixed: 258.16272942031617\n"
     ]
    }
   ],
   "source": [
    "hist_side_by_side('log10(lines added)',\n",
    "                  np.log10(commits[commits['lines_added']>0]['lines_added']),\n",
    "                  np.log10(fixed[fixed['lines_added']>0]['lines_added']),\n",
    "                  20, 0, 4)\n",
    "print(\"mean number of lines added:\\nall: {}\\nfixed: {}\".format(\n",
    "      np.mean(commits[commits['lines_added']>0]['lines_added']),\n",
    "      np.mean(fixed[fixed['lines_added']>0]['lines_added'])))"
   ]
  },
  {
   "cell_type": "code",
   "execution_count": 12,
   "metadata": {},
   "outputs": [
    {
     "data": {
      "image/png": "[encoded data removed]",
      "text/plain": [
       "<Figure size 720x360 with 2 Axes>"
      ]
     },
     "metadata": {
      "needs_background": "light"
     },
     "output_type": "display_data"
    },
    {
     "name": "stdout",
     "output_type": "stream",
     "text": [
      "mean number of lines removed:\n",
      "all: 37.98629070907548\n",
      "fixed: 67.57759403961475\n"
     ]
    }
   ],
   "source": [
    "hist_side_by_side('log10(lines removed)',\n",
    "                  np.log10(commits[commits['lines_removed']>0]['lines_removed']),\n",
    "                  np.log10(fixed[fixed['lines_removed']>0]['lines_removed']),\n",
    "                  20, 0, 3)\n",
    "print(\"mean number of lines removed:\\nall: {}\\nfixed: {}\".format(\n",
    "      np.mean(commits[commits['lines_removed']>0]['lines_removed']),\n",
    "      np.mean(fixed[fixed['lines_removed']>0]['lines_removed'])))"
   ]
  },
  {
   "cell_type": "code",
   "execution_count": 13,
   "metadata": {},
   "outputs": [
    {
     "name": "stdout",
     "output_type": "stream",
     "text": [
      "Correlation coeeficient between hunks and fixed per hunk = -0.006816371402910087\n"
     ]
    }
   ],
   "source": [
    "x=commits[commits['hunks']>0]['hunks']\n",
    "y=commits[commits['hunks']>0]['fixed'] / commits[commits['hunks']>0]['hunks']\n",
    "print(\"Correlation coeeficient between hunks and fixed per hunk = {}\".format(np.corrcoef(x,y)[0][1]))"
   ]
  },
  {
   "cell_type": "code",
   "execution_count": 14,
   "metadata": {},
   "outputs": [
    {
     "name": "stdout",
     "output_type": "stream",
     "text": [
      "Correlation coeeficient between files changed and fixed per file = -0.0022518978904436243\n"
     ]
    }
   ],
   "source": [
    "x=commits[commits['changed_files']>0]['changed_files']\n",
    "y=commits[commits['changed_files']>0]['fixed'] / commits[commits['changed_files']>0]['changed_files']\n",
    "print(\"Correlation coeeficient between files changed and fixed per file = {}\".format(np.corrcoef(x,y)[0][1]))"
   ]
  },
  {
   "cell_type": "code",
   "execution_count": 15,
   "metadata": {},
   "outputs": [
    {
     "name": "stdout",
     "output_type": "stream",
     "text": [
      "Correlation coeeficient between lines added and fixed per line added = -0.0036661574048970683\n"
     ]
    }
   ],
   "source": [
    "x=commits[commits['lines_added']>0]['lines_added']\n",
    "y=commits[commits['lines_added']>0]['fixed'] / commits[commits['lines_added']>0]['lines_added']\n",
    "print(\"Correlation coeeficient between lines added and fixed per line added = {}\".format(np.corrcoef(x,y)[0][1]))"
   ]
  },
  {
   "cell_type": "code",
   "execution_count": 16,
   "metadata": {},
   "outputs": [
    {
     "name": "stdout",
     "output_type": "stream",
     "text": [
      "Correlation coeeficient between lines removed and fixed per line removed = -0.0037118095772214654\n"
     ]
    }
   ],
   "source": [
    "x=commits[commits['lines_removed']>0]['lines_removed']\n",
    "y=commits[commits['lines_removed']>0]['fixed'] / commits[commits['lines_removed']>0]['lines_removed']\n",
    "print(\"Correlation coeeficient between lines removed and fixed per line removed = {}\".format(np.corrcoef(x,y)[0][1]))"
   ]
  },
  {
   "cell_type": "markdown",
   "metadata": {},
   "source": [
    "The rate of fixes applied per amount of change does not increase with the size of the change.\n",
    "\n",
    "This contrasts with the often heard advice: \"Separate your big patch into smaller ones that can be easily reviewed.\""
   ]
  },
  {
   "cell_type": "markdown",
   "metadata": {},
   "source": [
    "### Influence of the authors experience"
   ]
  },
  {
   "cell_type": "code",
   "execution_count": 17,
   "metadata": {},
   "outputs": [
    {
     "data": {
      "image/png": "[encoded data removed]",
      "text/plain": [
       "<Figure size 720x360 with 2 Axes>"
      ]
     },
     "metadata": {
      "needs_background": "light"
     },
     "output_type": "display_data"
    },
    {
     "name": "stdout",
     "output_type": "stream",
     "text": [
      "mean number of author patches:\n",
      "all: 538.1464166305798\n",
      "fixed: 480.80228966018535\n"
     ]
    }
   ],
   "source": [
    "hist_side_by_side('log10(author patches)',\n",
    "                  np.log10(commits[commits['author_patches']>0]['author_patches']),\n",
    "                  np.log10(fixed[fixed['author_patches']>0]['author_patches']),\n",
    "                  50, 0, 4)\n",
    "print(\"mean number of author patches:\\nall: {}\\nfixed: {}\".format(\n",
    "      np.mean(commits[commits['author_patches']>0]['author_patches']),\n",
    "      np.mean(fixed[fixed['author_patches']>0]['author_patches'])))"
   ]
  },
  {
   "cell_type": "code",
   "execution_count": 18,
   "metadata": {},
   "outputs": [
    {
     "name": "stdout",
     "output_type": "stream",
     "text": [
      "Correlation coeeficient between log(author patches) and log(hunks) = 0.031596727580444246\n"
     ]
    },
    {
     "data": {
      "image/png": "[encoded data removed]",
      "text/plain": [
       "<Figure size 432x288 with 1 Axes>"
      ]
     },
     "metadata": {
      "needs_background": "light"
     },
     "output_type": "display_data"
    }
   ],
   "source": [
    "\n",
    "x=np.log10(commits[commits['hunks']>0]['author_patches'])\n",
    "y=np.log10(commits[commits['hunks']>0]['hunks'])\n",
    "plt.scatter(x, y, c='blue', alpha=0.1, s=2, edgecolors='none')\n",
    "print(\"Correlation coeeficient between log(author patches) and log(hunks) = {}\".format(np.corrcoef(x,y)[0][1]))"
   ]
  },
  {
   "cell_type": "code",
   "execution_count": 19,
   "metadata": {},
   "outputs": [
    {
     "data": {
      "image/png": "[encoded data removed]",
      "text/plain": [
       "<Figure size 720x360 with 2 Axes>"
      ]
     },
     "metadata": {
      "needs_background": "light"
     },
     "output_type": "display_data"
    },
    {
     "name": "stdout",
     "output_type": "stream",
     "text": [
      "mean years since first patch:\n",
      "all: 4.04\n",
      "fixed: 4.28\n"
     ]
    }
   ],
   "source": [
    "hist_side_by_side('sqrt(seconds since first patch)',\n",
    "                  np.sqrt(commits['author_last_patch'] - commits['author_first_patch']),\n",
    "                  np.sqrt(fixed['author_last_patch'] - fixed['author_first_patch']),\n",
    "                  50, 0, 22000)\n",
    "\n",
    "print(\"mean years since first patch:\\nall: {:4.2f}\\nfixed: {:4.2f}\".format(\n",
    "      np.mean(commits['author_last_patch'] - commits['author_first_patch']) / 31557600,\n",
    "      np.mean(fixed['author_last_patch'] - fixed['author_first_patch']) / 31557600))"
   ]
  },
  {
   "cell_type": "code",
   "execution_count": 20,
   "metadata": {},
   "outputs": [
    {
     "name": "stdout",
     "output_type": "stream",
     "text": [
      "Correlation coeeficient between sqrt(seconds since first patch) and log(hunks) = 0.04294182156633916\n"
     ]
    },
    {
     "data": {
      "image/png": "[encoded data removed]",
      "text/plain": [
       "<Figure size 432x288 with 1 Axes>"
      ]
     },
     "metadata": {
      "needs_background": "light"
     },
     "output_type": "display_data"
    }
   ],
   "source": [
    "x=np.sqrt(commits[commits['hunks']>0]['author_last_patch'] - commits[commits['hunks']>0]['author_first_patch'])\n",
    "y=np.log10(commits[commits['hunks']>0]['hunks'])\n",
    "\n",
    "plt.scatter(x, y, c='blue', alpha=0.1, s=2, edgecolors='none')\n",
    "print(\"Correlation coeeficient between sqrt(seconds since first patch) and log(hunks) = {}\".format(\n",
    "    np.corrcoef(x,y)[0][1]))\n"
   ]
  },
  {
   "cell_type": "markdown",
   "metadata": {},
   "source": [
    "The percentage of fixed patches decreases a bit with number of patches and increases a bit with the time since the first patch."
   ]
  },
  {
   "cell_type": "markdown",
   "metadata": {},
   "source": [
    "### Influence of peer review"
   ]
  },
  {
   "cell_type": "code",
   "execution_count": 21,
   "metadata": {},
   "outputs": [
    {
     "data": {
      "image/png": "[encoded data removed]",
      "text/plain": [
       "<Figure size 720x360 with 2 Axes>"
      ]
     },
     "metadata": {
      "needs_background": "light"
     },
     "output_type": "display_data"
    },
    {
     "name": "stdout",
     "output_type": "stream",
     "text": [
      "mean number of signed offs:\n",
      "all: 1.97\n",
      "fixed: 2.06\n",
      "Number of signed offs 0, average number of hunks  2.89\n",
      "Number of signed offs 1, average number of hunks  6.49\n",
      "Number of signed offs 2, average number of hunks  4.81\n",
      "Number of signed offs 3, average number of hunks  5.20\n",
      "Number of signed offs 4, average number of hunks  6.98\n",
      "Number of signed offs 5, average number of hunks  8.44\n",
      "Number of signed offs 6, average number of hunks 15.62\n",
      "Number of signed offs 7, average number of hunks 10.58\n",
      "Number of signed offs 8, average number of hunks  5.70\n",
      "Number of signed offs 9, average number of hunks 43.67\n",
      "Number of signed offs 10, average number of hunks  4.33\n"
     ]
    }
   ],
   "source": [
    "hist_side_by_side('Number of signed offs',\n",
    "                  commits['signed_offs'], fixed['signed_offs'],\n",
    "                  10, 0, 10)\n",
    "print(\"mean number of signed offs:\\nall: {:4.2f}\\nfixed: {:4.2f}\".format(\n",
    "      np.mean(commits['signed_offs']), np.mean(fixed['signed_offs'])))\n",
    "\n",
    "for i in range(0,11):\n",
    "        print(\"Number of signed offs {}, average number of hunks {:5.2f}\".format(i,\n",
    "            np.mean(commits[commits['signed_offs']==i]['hunks'])))\n"
   ]
  },
  {
   "cell_type": "code",
   "execution_count": 22,
   "metadata": {},
   "outputs": [
    {
     "data": {
      "image/png": "[encoded data removed]",
      "text/plain": [
       "<Figure size 720x360 with 2 Axes>"
      ]
     },
     "metadata": {
      "needs_background": "light"
     },
     "output_type": "display_data"
    },
    {
     "name": "stdout",
     "output_type": "stream",
     "text": [
      "mean number of reviews:\n",
      "all: 0.27\n",
      "fixed: 0.29\n",
      "Number of reviews 0, average number of hunks  5.09\n",
      "Number of reviews 1, average number of hunks  5.20\n",
      "Number of reviews 2, average number of hunks  6.06\n",
      "Number of reviews 3, average number of hunks 13.91\n",
      "Number of reviews 4, average number of hunks 11.68\n",
      "Number of reviews 5, average number of hunks  9.03\n"
     ]
    }
   ],
   "source": [
    "hist_side_by_side('Number of reviews',\n",
    "                  commits['reviews'], fixed['reviews'],\n",
    "                  5, 0, 5)\n",
    "print(\"mean number of reviews:\\nall: {:4.2f}\\nfixed: {:4.2f}\".format(\n",
    "      np.mean(commits['reviews']), np.mean(fixed['reviews'])))\n",
    "\n",
    "for i in range(0,6):\n",
    "        print(\"Number of reviews {}, average number of hunks {:5.2f}\".format(i,\n",
    "            np.mean(commits[commits['reviews']==i]['hunks'])))"
   ]
  },
  {
   "cell_type": "code",
   "execution_count": 23,
   "metadata": {},
   "outputs": [
    {
     "data": {
      "image/png": "[encoded data removed]",
      "text/plain": [
       "<Figure size 720x360 with 2 Axes>"
      ]
     },
     "metadata": {
      "needs_background": "light"
     },
     "output_type": "display_data"
    },
    {
     "name": "stdout",
     "output_type": "stream",
     "text": [
      "mean number of testeds:\n",
      "all: 0.06\n",
      "fixed: 0.09\n",
      "Number of testeds 0, average number of hunks  5.20\n",
      "Number of testeds 1, average number of hunks  5.18\n",
      "Number of testeds 2, average number of hunks  6.32\n",
      "Number of testeds 3, average number of hunks  6.92\n",
      "Number of testeds 4, average number of hunks  7.32\n",
      "Number of testeds 5, average number of hunks  6.35\n"
     ]
    }
   ],
   "source": [
    "hist_side_by_side('Number of testeds',\n",
    "                  commits['testeds'], fixed['testeds'],\n",
    "                  10, 0, 5)\n",
    "print(\"mean number of testeds:\\nall: {:4.2f}\\nfixed: {:4.2f}\".format(\n",
    "      np.mean(commits['testeds']), np.mean(fixed['testeds'])))\n",
    "\n",
    "for i in range(0,6):\n",
    "        print(\"Number of testeds {}, average number of hunks {:5.2f}\".format(i,\n",
    "            np.mean(commits[commits['testeds']==i]['hunks'])))"
   ]
  },
  {
   "cell_type": "markdown",
   "metadata": {},
   "source": [
    "The rate of fixed patches increases with the amount of peer review. This reflects that peer review concentrates on complex patches.\n",
    "\n",
    "Tested patches have a higher percentage of fixed. This may reflect that tester concentrate on what looks 'fishy'."
   ]
  },
  {
   "cell_type": "markdown",
   "metadata": {},
   "source": [
    "### Volunteers produce less bugs?\n",
    "The kernel development is mainly driven by companies only a small proportion is unpaid work: \"It was 14.6 percent in the 2012 ..., but is 8.2 percent this time around (ed note 2017)\". (2017 State of Linux Kernel Development, https://go.pardot.com/l/6342/2017-10-24/3xr3f2/6342/188781/Publication_LinuxKernelReport_2017.pdf)\n",
    "\n",
    "An interesting question is if unpaid authors produce more bugs than \"professionals\"."
   ]
  },
  {
   "cell_type": "code",
   "execution_count": 24,
   "metadata": {},
   "outputs": [
    {
     "data": {
      "text/plain": [
       "gmail.com              48205\n",
       "intel.com              43105\n",
       "redhat.com             24067\n",
       "kernel.org             20107\n",
       "linaro.org             15799\n",
       "amd.com                11918\n",
       "ibm.com                11137\n",
       "samsung.com             9045\n",
       "ti.com                  7731\n",
       "google.com              7195\n",
       "mellanox.com            7047\n",
       "oracle.com              6838\n",
       "huawei.com              6376\n",
       "suse.de                 6287\n",
       "co.uk                   5727\n",
       "arm.com                 5103\n",
       "org.uk                  4779\n",
       "visionengravers.com     4281\n",
       "suse.com                3952\n",
       "renesas.com             3879\n",
       "dtype: int64"
      ]
     },
     "execution_count": 24,
     "metadata": {},
     "output_type": "execute_result"
    }
   ],
   "source": [
    "pd.get_dummies(commits['author_email_domain']).sum().sort_values(ascending=False).head(20)"
   ]
  },
  {
   "cell_type": "code",
   "execution_count": 25,
   "metadata": {},
   "outputs": [
    {
     "name": "stdout",
     "output_type": "stream",
     "text": [
      "Percentage of patches marked as fixed: 3.89 %\n",
      "Mean number of lines added:\n",
      "all: 43.04084638522975\n",
      "fixed: 332.20373333333333\n",
      "Percentage of patches marked as fixes: 5.85 %\n"
     ]
    }
   ],
   "source": [
    "print(\"Percentage of patches marked as fixed:{:5.2f} %\".format(\n",
    "fixed[fixed['author_email_domain']=='gmail.com'].shape[0] \n",
    "    / commits[commits['author_email_domain']=='gmail.com'].shape[0]\n",
    "    * 100))\n",
    "print(\"Mean number of lines added:\\nall: {}\\nfixed: {}\".format(\n",
    "      np.mean(commits[commits['author_email_domain']=='gmail.com']['lines_added']),\n",
    "      np.mean(fixed[fixed['author_email_domain']=='gmail.com']['lines_added'])))\n",
    "\n",
    "print(\"Percentage of patches marked as fixes:{:5.2f} %\".format(\n",
    "      commits[commits['author_email_domain']=='gmail.com']['fixes'].sum() /\n",
    "      commits[commits['author_email_domain']=='gmail.com'].shape[0] * 100))"
   ]
  },
  {
   "cell_type": "code",
   "execution_count": 26,
   "metadata": {},
   "outputs": [
    {
     "name": "stdout",
     "output_type": "stream",
     "text": [
      "Percentage of patches marked as fixed: 5.69 %\n",
      "Mean number of lines added:\n",
      "all: 64.67683563391718\n",
      "fixed: 304.28239608801954\n",
      "Percentage of patches marked as fixes: 7.26 %\n"
     ]
    }
   ],
   "source": [
    "print(\"Percentage of patches marked as fixed:{:5.2f} %\".format(\n",
    "fixed[fixed['author_email_domain']=='intel.com'].shape[0] \n",
    "    / commits[commits['author_email_domain']=='intel.com'].shape[0]\n",
    "    * 100))\n",
    "print(\"Mean number of lines added:\\nall: {}\\nfixed: {}\".format(\n",
    "      np.mean(commits[commits['author_email_domain']=='intel.com']['lines_added']),\n",
    "      np.mean(fixed[fixed['author_email_domain']=='intel.com']['lines_added'])))\n",
    "\n",
    "print(\"Percentage of patches marked as fixes:{:5.2f} %\".format(\n",
    "      commits[commits['author_email_domain']=='intel.com']['fixes'].sum() /\n",
    "      commits[commits['author_email_domain']=='intel.com'].shape[0] * 100))"
   ]
  },
  {
   "cell_type": "markdown",
   "metadata": {},
   "source": [
    "#### Email domain\n",
    "\n",
    "The top 20 email domains account for more than half of the commits. Most email domains relate to IT companies. In the top 20 only gmail.com stands out. Let's assume these commits are mostly unpaid work.\n",
    "\n",
    "At first sight it is astonishing that commits by 'professionals' have a higher fixed rate than those of 'volunteers'. But does that imply that their error rate is higher? Not necessarily. Companies tend to focus their work on the subtrees of the Linux kernel serving their products. If a company has a higher tendency of correctly labeling fixes by a 'Fixes:' line in its sub-trees, this would result in a higher fixed rate in our dataset without implying a higher error rate."
   ]
  },
  {
   "cell_type": "code",
   "execution_count": 27,
   "metadata": {},
   "outputs": [
    {
     "name": "stdout",
     "output_type": "stream",
     "text": [
      "hunks per patch, all: 5.2055917401043255, gmail.com: 4.568945130173218\n"
     ]
    }
   ],
   "source": [
    "print(\"hunks per patch, all: {}, gmail.com: {}\".format(\n",
    "    np.mean(commits['hunks']),\n",
    "    np.mean(commits[commits['author_email_domain']=='gmail.com']['hunks'])))"
   ]
  },
  {
   "cell_type": "code",
   "execution_count": 28,
   "metadata": {},
   "outputs": [
    {
     "name": "stdout",
     "output_type": "stream",
     "text": [
      "lines added per patch, all: 60.27480815350358, gmail.com: 43.04084638522975\n"
     ]
    }
   ],
   "source": [
    "print(\"lines added per patch, all: {}, gmail.com: {}\".format(\n",
    "    np.mean(commits['lines_added']),\n",
    "    np.mean(commits[commits['author_email_domain']=='gmail.com']['lines_added'])))"
   ]
  },
  {
   "cell_type": "markdown",
   "metadata": {},
   "source": [
    "gmail.com authors created less compless patches than average."
   ]
  },
  {
   "cell_type": "code",
   "execution_count": 29,
   "metadata": {},
   "outputs": [
    {
     "name": "stdout",
     "output_type": "stream",
     "text": [
      "fixed per hunk, all: 0.017573075165017146, gmail.com: 0.01607217943234773\n"
     ]
    },
    {
     "name": "stderr",
     "output_type": "stream",
     "text": [
      "/usr/lib/python3/dist-packages/ipykernel_launcher.py:2: UserWarning: Boolean Series key will be reindexed to match DataFrame index.\n",
      "  \n"
     ]
    }
   ],
   "source": [
    "x=np.mean(commits[commits['hunks']>0]['fixed'] / commits[commits['hunks']>0]['hunks'])\n",
    "y=np.mean(commits[commits['author_email_domain']=='gmail.com'][commits['hunks']>0]['fixed'] / \\\n",
    "  commits[commits['author_email_domain']=='gmail.com'][commits['hunks']>0]['hunks'])\n",
    "print(\"fixed per hunk, all: {}, gmail.com: {}\".format(x, y))"
   ]
  },
  {
   "cell_type": "code",
   "execution_count": 30,
   "metadata": {},
   "outputs": [
    {
     "name": "stdout",
     "output_type": "stream",
     "text": [
      "fixed per lines added, all: 0.0036891452586220604, gmail.com: 0.0034544972604665003\n"
     ]
    },
    {
     "name": "stderr",
     "output_type": "stream",
     "text": [
      "/usr/lib/python3/dist-packages/ipykernel_launcher.py:2: UserWarning: Boolean Series key will be reindexed to match DataFrame index.\n",
      "  \n"
     ]
    }
   ],
   "source": [
    "x=np.mean(commits[commits['lines_added']>0]['fixed'] / commits[commits['lines_added']>0]['lines_added'])\n",
    "y=np.mean(commits[commits['author_email_domain']=='gmail.com'][commits['lines_added']>0]['fixed'] / \\\n",
    "  commits[commits['author_email_domain']=='gmail.com'][commits['lines_added']>0]['lines_added'])\n",
    "print(\"fixed per lines added, all: {}, gmail.com: {}\".format(x, y))"
   ]
  },
  {
   "cell_type": "markdown",
   "metadata": {},
   "source": [
    "The smaller fixed rate of gmail.com patches cannot be explained by the by average smaller size of their patches alone as also the number of fixes per patch size is also lower."
   ]
  },
  {
   "cell_type": "code",
   "execution_count": 31,
   "metadata": {},
   "outputs": [
    {
     "data": {
      "image/png": "[encoded data removed]",
      "text/plain": [
       "<Figure size 720x360 with 2 Axes>"
      ]
     },
     "metadata": {
      "needs_background": "light"
     },
     "output_type": "display_data"
    }
   ],
   "source": [
    "hist_side_by_side('Local time (hour) the patch was authored', commits['author_hour'], fixed['author_hour'], 24, 0, 24)"
   ]
  },
  {
   "cell_type": "code",
   "execution_count": 32,
   "metadata": {},
   "outputs": [
    {
     "data": {
      "image/png": "[encoded data removed]",
      "text/plain": [
       "<Figure size 720x360 with 2 Axes>"
      ]
     },
     "metadata": {
      "needs_background": "light"
     },
     "output_type": "display_data"
    },
    {
     "name": "stderr",
     "output_type": "stream",
     "text": [
      "/usr/lib/python3/dist-packages/ipykernel_launcher.py:8: UserWarning: Boolean Series key will be reindexed to match DataFrame index.\n",
      "  \n"
     ]
    },
    {
     "name": "stdout",
     "output_type": "stream",
     "text": [
      "wday 0, percentage of Gmail.com commits 13.02 %\n",
      "wday 1, percentage of Gmail.com commits 12.85 %\n",
      "wday 2, percentage of Gmail.com commits 13.58 %\n",
      "wday 3, percentage of Gmail.com commits 12.43 %\n",
      "wday 4, percentage of Gmail.com commits  8.84 %\n",
      "wday 5, percentage of Gmail.com commits  9.13 %\n",
      "wday 6, percentage of Gmail.com commits  8.68 %\n",
      "wday 7, percentage of Gmail.com commits  9.37 %\n",
      "wday 8, percentage of Gmail.com commits  9.15 %\n",
      "wday 9, percentage of Gmail.com commits  9.38 %\n",
      "wday 10, percentage of Gmail.com commits  8.08 %\n",
      "wday 11, percentage of Gmail.com commits  7.77 %\n",
      "wday 12, percentage of Gmail.com commits  8.46 %\n",
      "wday 13, percentage of Gmail.com commits  7.52 %\n",
      "wday 14, percentage of Gmail.com commits  7.77 %\n",
      "wday 15, percentage of Gmail.com commits  8.90 %\n",
      "wday 16, percentage of Gmail.com commits  8.52 %\n",
      "wday 17, percentage of Gmail.com commits  9.14 %\n",
      "wday 18, percentage of Gmail.com commits 11.71 %\n",
      "wday 19, percentage of Gmail.com commits 14.38 %\n",
      "wday 20, percentage of Gmail.com commits 18.14 %\n",
      "wday 21, percentage of Gmail.com commits 19.26 %\n",
      "wday 22, percentage of Gmail.com commits 18.21 %\n",
      "wday 23, percentage of Gmail.com commits 20.82 %\n"
     ]
    }
   ],
   "source": [
    "hist_side_by_side('Local time (hour) the patch was authored',\n",
    "                  commits['author_hour'],\n",
    "                  commits[commits['author_email_domain']=='gmail.com']['author_hour'], 24, 0, 24, 'gmail.com')\n",
    "\n",
    "for hour in range(0,24):\n",
    "    print(\"wday {}, percentage of Gmail.com commits {:5.2f} %\".format(hour, \n",
    "            commits[commits['author_hour']==hour][commits['author_email_domain']=='gmail.com'].shape[0] /\n",
    "            commits[commits['author_hour']==hour].shape[0] * 100))"
   ]
  },
  {
   "cell_type": "code",
   "execution_count": 33,
   "metadata": {},
   "outputs": [
    {
     "data": {
      "image/png": "[encoded data removed]",
      "text/plain": [
       "<Figure size 720x360 with 2 Axes>"
      ]
     },
     "metadata": {
      "needs_background": "light"
     },
     "output_type": "display_data"
    },
    {
     "name": "stderr",
     "output_type": "stream",
     "text": [
      "/usr/lib/python3/dist-packages/ipykernel_launcher.py:8: UserWarning: Boolean Series key will be reindexed to match DataFrame index.\n",
      "  \n"
     ]
    },
    {
     "name": "stdout",
     "output_type": "stream",
     "text": [
      "wday 1, percentage of Gmail.com commits  9.41 %\n",
      "wday 2, percentage of Gmail.com commits  9.73 %\n",
      "wday 3, percentage of Gmail.com commits  9.77 %\n",
      "wday 4, percentage of Gmail.com commits  9.08 %\n",
      "wday 5, percentage of Gmail.com commits  9.22 %\n",
      "wday 6, percentage of Gmail.com commits 19.78 %\n",
      "wday 7, percentage of Gmail.com commits 20.08 %\n"
     ]
    }
   ],
   "source": [
    "hist_side_by_side('Day of the week patch was authored',\n",
    "                  commits['author_wday'],\n",
    "                  commits[commits['author_email_domain']=='gmail.com']['author_wday'], 7, 1, 8, 'gmail.com')\n",
    "\n",
    "for wday in range(1,8):\n",
    "    print(\"wday {}, percentage of Gmail.com commits {:5.2f} %\".format(wday, \n",
    "            commits[commits['author_wday']==wday][commits['author_email_domain']=='gmail.com'].shape[0] /\n",
    "            commits[commits['author_wday']==wday].shape[0] * 100))"
   ]
  },
  {
   "cell_type": "markdown",
   "metadata": {},
   "source": [
    "#### Volunteers working at night and on the weekend\n",
    "Seeing that the percentage of gmail.com commits is higher on weekends and during the night confirms that this domain comprises a lot of unpaid contributors."
   ]
  },
  {
   "cell_type": "code",
   "execution_count": 34,
   "metadata": {},
   "outputs": [
    {
     "data": {
      "image/png": "[encoded data removed]",
      "text/plain": [
       "<Figure size 720x360 with 2 Axes>"
      ]
     },
     "metadata": {
      "needs_background": "light"
     },
     "output_type": "display_data"
    },
    {
     "name": "stdout",
     "output_type": "stream",
     "text": [
      "wday 1, fixed percentage  4.81 %\n",
      "wday 2, fixed percentage  4.82 %\n",
      "wday 3, fixed percentage  4.95 %\n",
      "wday 4, fixed percentage  5.08 %\n",
      "wday 5, fixed percentage  5.03 %\n",
      "wday 6, fixed percentage  3.83 %\n",
      "wday 7, fixed percentage  4.22 %\n"
     ]
    }
   ],
   "source": [
    "hist_side_by_side('Day of the week patch was authored',\n",
    "                  commits['author_wday'],fixed['author_wday'], 7, 1, 8)\n",
    "for wday in range(1,8):\n",
    "    print(\"wday {}, fixed percentage {:5.2f} %\".format(wday, \n",
    "            fixed[fixed['author_wday']==wday].shape[0] /\n",
    "            commits[commits['author_wday']==wday].shape[0] * 100))"
   ]
  },
  {
   "cell_type": "code",
   "execution_count": 35,
   "metadata": {},
   "outputs": [
    {
     "data": {
      "image/png": "[encoded data removed]",
      "text/plain": [
       "<Figure size 720x360 with 2 Axes>"
      ]
     },
     "metadata": {
      "needs_background": "light"
     },
     "output_type": "display_data"
    },
    {
     "name": "stdout",
     "output_type": "stream",
     "text": [
      "hour 0, fixed percentage  4.51 %\n",
      "hour 1, fixed percentage  4.74 %\n",
      "hour 2, fixed percentage  4.80 %\n",
      "hour 3, fixed percentage  4.67 %\n",
      "hour 4, fixed percentage  4.84 %\n",
      "hour 5, fixed percentage  4.67 %\n",
      "hour 6, fixed percentage  4.99 %\n",
      "hour 7, fixed percentage  5.07 %\n",
      "hour 8, fixed percentage  4.99 %\n",
      "hour 9, fixed percentage  5.21 %\n",
      "hour 10, fixed percentage  5.13 %\n",
      "hour 11, fixed percentage  4.73 %\n",
      "hour 12, fixed percentage  4.58 %\n",
      "hour 13, fixed percentage  4.71 %\n",
      "hour 14, fixed percentage  4.84 %\n",
      "hour 15, fixed percentage  4.97 %\n",
      "hour 16, fixed percentage  4.89 %\n",
      "hour 17, fixed percentage  4.91 %\n",
      "hour 18, fixed percentage  5.17 %\n",
      "hour 19, fixed percentage  4.41 %\n",
      "hour 20, fixed percentage  4.86 %\n",
      "hour 21, fixed percentage  4.95 %\n",
      "hour 22, fixed percentage  4.73 %\n",
      "hour 23, fixed percentage  4.15 %\n"
     ]
    }
   ],
   "source": [
    "hist_side_by_side('Local time (hour) the patch was authored',\n",
    "                  commits['author_hour'],\n",
    "                  fixed['author_hour'], 24, 0, 24)\n",
    "for hour in range(0,24):\n",
    "    print(\"hour {}, fixed percentage {:5.2f} %\".format(hour, \n",
    "            fixed[fixed['author_hour']==hour].shape[0] /\n",
    "            commits[commits['author_hour']==hour].shape[0] * 100))"
   ]
  },
  {
   "cell_type": "code",
   "execution_count": 36,
   "metadata": {},
   "outputs": [
    {
     "name": "stdout",
     "output_type": "stream",
     "text": [
      "Fixed percentage: committed by author  4.60 %, committed by other person  4.89 %\n"
     ]
    }
   ],
   "source": [
    "print(\"Fixed percentage: committed by author {:5.2f} %, committed by other person {:5.2f} %\".format(\n",
    "    fixed[fixed['committer_id']==fixed['author_id']].shape[0]/commits[commits['committer_id']==commits['author_id']].shape[0] * 100,\n",
    "    fixed[fixed['committer_id']!=fixed['author_id']].shape[0]/commits[commits['committer_id']!=commits['author_id']].shape[0] * 100))"
   ]
  },
  {
   "cell_type": "markdown",
   "metadata": {},
   "source": [
    "# Modeling\n",
    "\n",
    "## Estimator for error rate\n",
    "\n",
    "Above we have seen that measures of patch complexity correlate with the rate of subsequent fixes. As discussed above the number of 'Fixes:' might be different depending on the preferences of persons working on specific parts of the Linux code. So only those measures will be considered where we would not assume a relationship to the Linux sub-system (dropping email domain, time of work)."
   ]
  },
  {
   "cell_type": "code",
   "execution_count": 37,
   "metadata": {},
   "outputs": [],
   "source": [
    "def log1(x):\n",
    "    return [math.log(v) if v > 0 else -1 for v in x]"
   ]
  },
  {
   "cell_type": "code",
   "execution_count": 38,
   "metadata": {},
   "outputs": [],
   "source": [
    "def nonzero(x):\n",
    "    return [1 if v > 0 else 0 for v in x]"
   ]
  },
  {
   "cell_type": "code",
   "execution_count": 39,
   "metadata": {},
   "outputs": [
    {
     "data": {
      "text/html": [
       "<div>\n",
       "<style scoped>\n",
       "    .dataframe tbody tr th:only-of-type {\n",
       "        vertical-align: middle;\n",
       "    }\n",
       "\n",
       "    .dataframe tbody tr th {\n",
       "        vertical-align: top;\n",
       "    }\n",
       "\n",
       "    .dataframe thead th {\n",
       "        text-align: right;\n",
       "    }\n",
       "</style>\n",
       "<table border=\"1\" class=\"dataframe\">\n",
       "  <thead>\n",
       "    <tr style=\"text-align: right;\">\n",
       "      <th></th>\n",
       "      <th>log_commit_message_lines</th>\n",
       "      <th>log_signed_offs</th>\n",
       "      <th>log_testeds</th>\n",
       "      <th>log_reviews</th>\n",
       "      <th>log_changed_files</th>\n",
       "      <th>log_hunks</th>\n",
       "      <th>log_lines_added</th>\n",
       "      <th>log_lines_removed</th>\n",
       "      <th>log_author_patches</th>\n",
       "      <th>author_is_committer</th>\n",
       "      <th>sqrt_years_experience</th>\n",
       "      <th>fixed</th>\n",
       "    </tr>\n",
       "  </thead>\n",
       "  <tbody>\n",
       "    <tr>\n",
       "      <th>0</th>\n",
       "      <td>2.302585</td>\n",
       "      <td>0.693147</td>\n",
       "      <td>-1.0</td>\n",
       "      <td>-1.0</td>\n",
       "      <td>0.0</td>\n",
       "      <td>0.000000</td>\n",
       "      <td>0.693147</td>\n",
       "      <td>0.693147</td>\n",
       "      <td>4.828314</td>\n",
       "      <td>0</td>\n",
       "      <td>0.882806</td>\n",
       "      <td>0</td>\n",
       "    </tr>\n",
       "    <tr>\n",
       "      <th>1</th>\n",
       "      <td>2.397895</td>\n",
       "      <td>0.693147</td>\n",
       "      <td>-1.0</td>\n",
       "      <td>-1.0</td>\n",
       "      <td>0.0</td>\n",
       "      <td>2.302585</td>\n",
       "      <td>2.772589</td>\n",
       "      <td>2.708050</td>\n",
       "      <td>4.867534</td>\n",
       "      <td>0</td>\n",
       "      <td>1.528699</td>\n",
       "      <td>0</td>\n",
       "    </tr>\n",
       "    <tr>\n",
       "      <th>2</th>\n",
       "      <td>2.197225</td>\n",
       "      <td>0.693147</td>\n",
       "      <td>-1.0</td>\n",
       "      <td>-1.0</td>\n",
       "      <td>0.0</td>\n",
       "      <td>0.000000</td>\n",
       "      <td>0.693147</td>\n",
       "      <td>0.693147</td>\n",
       "      <td>2.302585</td>\n",
       "      <td>0</td>\n",
       "      <td>0.770165</td>\n",
       "      <td>0</td>\n",
       "    </tr>\n",
       "    <tr>\n",
       "      <th>3</th>\n",
       "      <td>2.197225</td>\n",
       "      <td>0.693147</td>\n",
       "      <td>-1.0</td>\n",
       "      <td>-1.0</td>\n",
       "      <td>0.0</td>\n",
       "      <td>0.000000</td>\n",
       "      <td>0.000000</td>\n",
       "      <td>1.386294</td>\n",
       "      <td>6.291569</td>\n",
       "      <td>0</td>\n",
       "      <td>1.844835</td>\n",
       "      <td>0</td>\n",
       "    </tr>\n",
       "    <tr>\n",
       "      <th>4</th>\n",
       "      <td>2.079442</td>\n",
       "      <td>0.693147</td>\n",
       "      <td>-1.0</td>\n",
       "      <td>-1.0</td>\n",
       "      <td>0.0</td>\n",
       "      <td>1.609438</td>\n",
       "      <td>1.791759</td>\n",
       "      <td>4.007333</td>\n",
       "      <td>4.382027</td>\n",
       "      <td>0</td>\n",
       "      <td>1.745163</td>\n",
       "      <td>0</td>\n",
       "    </tr>\n",
       "  </tbody>\n",
       "</table>\n",
       "</div>"
      ],
      "text/plain": [
       "   log_commit_message_lines  log_signed_offs  log_testeds  log_reviews  \\\n",
       "0                  2.302585         0.693147         -1.0         -1.0   \n",
       "1                  2.397895         0.693147         -1.0         -1.0   \n",
       "2                  2.197225         0.693147         -1.0         -1.0   \n",
       "3                  2.197225         0.693147         -1.0         -1.0   \n",
       "4                  2.079442         0.693147         -1.0         -1.0   \n",
       "\n",
       "   log_changed_files  log_hunks  log_lines_added  log_lines_removed  \\\n",
       "0                0.0   0.000000         0.693147           0.693147   \n",
       "1                0.0   2.302585         2.772589           2.708050   \n",
       "2                0.0   0.000000         0.693147           0.693147   \n",
       "3                0.0   0.000000         0.000000           1.386294   \n",
       "4                0.0   1.609438         1.791759           4.007333   \n",
       "\n",
       "   log_author_patches  author_is_committer  sqrt_years_experience  fixed  \n",
       "0            4.828314                    0               0.882806      0  \n",
       "1            4.867534                    0               1.528699      0  \n",
       "2            2.302585                    0               0.770165      0  \n",
       "3            6.291569                    0               1.844835      0  \n",
       "4            4.382027                    0               1.745163      0  "
      ]
     },
     "execution_count": 39,
     "metadata": {},
     "output_type": "execute_result"
    }
   ],
   "source": [
    "data = {\n",
    "    'log_commit_message_lines' : log1(commits['commit_message_lines']),\n",
    "    'log_signed_offs' : log1(commits['signed_offs']),\n",
    "    'log_testeds' : log1(commits['testeds']),\n",
    "    'log_reviews' : log1(commits['reviews']),\n",
    "    'log_changed_files' : log1(commits['changed_files']),\n",
    "    'log_hunks' : log1(commits['hunks']),\n",
    "    'log_lines_added' : log1(commits['lines_added']),\n",
    "    'log_lines_removed' : log1(commits['lines_removed']),\n",
    "    'log_author_patches' : log1(commits['author_patches']),\n",
    "    'author_is_committer' : np.where(commits['author_id'].eq(commits['committer_id']), 1, 0),\n",
    "    'sqrt_years_experience' : np.sqrt((commits['author_last_patch'] - commits['author_first_patch']) / 31557600),\n",
    "    'fixed' : nonzero(commits['fixed'])\n",
    "}\n",
    "df = pd.DataFrame(data)\n",
    "x = df.drop(columns='fixed')\n",
    "y = df['fixed']\n",
    "df.head()"
   ]
  },
  {
   "cell_type": "markdown",
   "metadata": {},
   "source": [
    "Let's duplicate the fixed commits until they are about 50 % of the records."
   ]
  },
  {
   "cell_type": "code",
   "execution_count": 40,
   "metadata": {},
   "outputs": [],
   "source": [
    "df_fixed = df[df['fixed']>0]"
   ]
  },
  {
   "cell_type": "code",
   "execution_count": 41,
   "metadata": {},
   "outputs": [
    {
     "name": "stdout",
     "output_type": "stream",
     "text": [
      "Number of original records 454921\n",
      "Number of records marked as fixed 22012\n"
     ]
    }
   ],
   "source": [
    "print('Number of original records {}'.format(df.shape[0]))\n",
    "print('Number of records marked as fixed {}'.format(df_fixed.shape[0]))"
   ]
  },
  {
   "cell_type": "code",
   "execution_count": 42,
   "metadata": {},
   "outputs": [],
   "source": [
    "for i in range(0,20):\n",
    "    df = df.append(df_fixed)"
   ]
  },
  {
   "cell_type": "code",
   "execution_count": 43,
   "metadata": {},
   "outputs": [
    {
     "name": "stdout",
     "output_type": "stream",
     "text": [
      "Number of records in weighted set 895161\n"
     ]
    }
   ],
   "source": [
    "print('Number of records in weighted set {}'.format(df.shape[0]))"
   ]
  },
  {
   "cell_type": "code",
   "execution_count": 44,
   "metadata": {},
   "outputs": [
    {
     "data": {
      "text/html": [
       "<div>\n",
       "<style scoped>\n",
       "    .dataframe tbody tr th:only-of-type {\n",
       "        vertical-align: middle;\n",
       "    }\n",
       "\n",
       "    .dataframe tbody tr th {\n",
       "        vertical-align: top;\n",
       "    }\n",
       "\n",
       "    .dataframe thead th {\n",
       "        text-align: right;\n",
       "    }\n",
       "</style>\n",
       "<table border=\"1\" class=\"dataframe\">\n",
       "  <thead>\n",
       "    <tr style=\"text-align: right;\">\n",
       "      <th></th>\n",
       "      <th>log_commit_message_lines</th>\n",
       "      <th>log_signed_offs</th>\n",
       "      <th>log_testeds</th>\n",
       "      <th>log_reviews</th>\n",
       "      <th>log_changed_files</th>\n",
       "      <th>log_hunks</th>\n",
       "      <th>log_lines_added</th>\n",
       "      <th>log_lines_removed</th>\n",
       "      <th>log_author_patches</th>\n",
       "      <th>author_is_committer</th>\n",
       "      <th>sqrt_years_experience</th>\n",
       "      <th>fixed</th>\n",
       "    </tr>\n",
       "  </thead>\n",
       "  <tbody>\n",
       "    <tr>\n",
       "      <th>0</th>\n",
       "      <td>2.302585</td>\n",
       "      <td>0.693147</td>\n",
       "      <td>-1.0</td>\n",
       "      <td>-1.0</td>\n",
       "      <td>0.0</td>\n",
       "      <td>0.000000</td>\n",
       "      <td>0.693147</td>\n",
       "      <td>0.693147</td>\n",
       "      <td>4.828314</td>\n",
       "      <td>0</td>\n",
       "      <td>0.882806</td>\n",
       "      <td>0</td>\n",
       "    </tr>\n",
       "    <tr>\n",
       "      <th>1</th>\n",
       "      <td>2.397895</td>\n",
       "      <td>0.693147</td>\n",
       "      <td>-1.0</td>\n",
       "      <td>-1.0</td>\n",
       "      <td>0.0</td>\n",
       "      <td>2.302585</td>\n",
       "      <td>2.772589</td>\n",
       "      <td>2.708050</td>\n",
       "      <td>4.867534</td>\n",
       "      <td>0</td>\n",
       "      <td>1.528699</td>\n",
       "      <td>0</td>\n",
       "    </tr>\n",
       "    <tr>\n",
       "      <th>2</th>\n",
       "      <td>2.197225</td>\n",
       "      <td>0.693147</td>\n",
       "      <td>-1.0</td>\n",
       "      <td>-1.0</td>\n",
       "      <td>0.0</td>\n",
       "      <td>0.000000</td>\n",
       "      <td>0.693147</td>\n",
       "      <td>0.693147</td>\n",
       "      <td>2.302585</td>\n",
       "      <td>0</td>\n",
       "      <td>0.770165</td>\n",
       "      <td>0</td>\n",
       "    </tr>\n",
       "    <tr>\n",
       "      <th>3</th>\n",
       "      <td>2.197225</td>\n",
       "      <td>0.693147</td>\n",
       "      <td>-1.0</td>\n",
       "      <td>-1.0</td>\n",
       "      <td>0.0</td>\n",
       "      <td>0.000000</td>\n",
       "      <td>0.000000</td>\n",
       "      <td>1.386294</td>\n",
       "      <td>6.291569</td>\n",
       "      <td>0</td>\n",
       "      <td>1.844835</td>\n",
       "      <td>0</td>\n",
       "    </tr>\n",
       "    <tr>\n",
       "      <th>4</th>\n",
       "      <td>2.079442</td>\n",
       "      <td>0.693147</td>\n",
       "      <td>-1.0</td>\n",
       "      <td>-1.0</td>\n",
       "      <td>0.0</td>\n",
       "      <td>1.609438</td>\n",
       "      <td>1.791759</td>\n",
       "      <td>4.007333</td>\n",
       "      <td>4.382027</td>\n",
       "      <td>0</td>\n",
       "      <td>1.745163</td>\n",
       "      <td>0</td>\n",
       "    </tr>\n",
       "  </tbody>\n",
       "</table>\n",
       "</div>"
      ],
      "text/plain": [
       "   log_commit_message_lines  log_signed_offs  log_testeds  log_reviews  \\\n",
       "0                  2.302585         0.693147         -1.0         -1.0   \n",
       "1                  2.397895         0.693147         -1.0         -1.0   \n",
       "2                  2.197225         0.693147         -1.0         -1.0   \n",
       "3                  2.197225         0.693147         -1.0         -1.0   \n",
       "4                  2.079442         0.693147         -1.0         -1.0   \n",
       "\n",
       "   log_changed_files  log_hunks  log_lines_added  log_lines_removed  \\\n",
       "0                0.0   0.000000         0.693147           0.693147   \n",
       "1                0.0   2.302585         2.772589           2.708050   \n",
       "2                0.0   0.000000         0.693147           0.693147   \n",
       "3                0.0   0.000000         0.000000           1.386294   \n",
       "4                0.0   1.609438         1.791759           4.007333   \n",
       "\n",
       "   log_author_patches  author_is_committer  sqrt_years_experience  fixed  \n",
       "0            4.828314                    0               0.882806      0  \n",
       "1            4.867534                    0               1.528699      0  \n",
       "2            2.302585                    0               0.770165      0  \n",
       "3            6.291569                    0               1.844835      0  \n",
       "4            4.382027                    0               1.745163      0  "
      ]
     },
     "execution_count": 44,
     "metadata": {},
     "output_type": "execute_result"
    }
   ],
   "source": [
    "x = df.drop(columns='fixed')\n",
    "y = df['fixed']\n",
    "df.head()"
   ]
  },
  {
   "cell_type": "code",
   "execution_count": 45,
   "metadata": {},
   "outputs": [
    {
     "name": "stderr",
     "output_type": "stream",
     "text": [
      "/usr/lib/python3/dist-packages/sklearn/preprocessing/data.py:625: DataConversionWarning: Data with input dtype int64, float64 were all converted to float64 by StandardScaler.\n",
      "  return self.partial_fit(X, y)\n",
      "/usr/lib/python3/dist-packages/sklearn/base.py:462: DataConversionWarning: Data with input dtype int64, float64 were all converted to float64 by StandardScaler.\n",
      "  return self.fit(X, **fit_params).transform(X)\n"
     ]
    },
    {
     "data": {
      "text/html": [
       "<div>\n",
       "<style scoped>\n",
       "    .dataframe tbody tr th:only-of-type {\n",
       "        vertical-align: middle;\n",
       "    }\n",
       "\n",
       "    .dataframe tbody tr th {\n",
       "        vertical-align: top;\n",
       "    }\n",
       "\n",
       "    .dataframe thead th {\n",
       "        text-align: right;\n",
       "    }\n",
       "</style>\n",
       "<table border=\"1\" class=\"dataframe\">\n",
       "  <thead>\n",
       "    <tr style=\"text-align: right;\">\n",
       "      <th></th>\n",
       "      <th>0</th>\n",
       "      <th>1</th>\n",
       "      <th>2</th>\n",
       "      <th>3</th>\n",
       "      <th>4</th>\n",
       "      <th>5</th>\n",
       "      <th>6</th>\n",
       "      <th>7</th>\n",
       "      <th>8</th>\n",
       "      <th>9</th>\n",
       "      <th>10</th>\n",
       "    </tr>\n",
       "  </thead>\n",
       "  <tbody>\n",
       "    <tr>\n",
       "      <th>0</th>\n",
       "      <td>-0.758743</td>\n",
       "      <td>0.139555</td>\n",
       "      <td>-0.252038</td>\n",
       "      <td>-0.515832</td>\n",
       "      <td>-0.793057</td>\n",
       "      <td>-1.268061</td>\n",
       "      <td>-1.372410</td>\n",
       "      <td>-0.927193</td>\n",
       "      <td>0.005072</td>\n",
       "      <td>-0.460753</td>\n",
       "      <td>-0.943763</td>\n",
       "    </tr>\n",
       "    <tr>\n",
       "      <th>1</th>\n",
       "      <td>-0.584352</td>\n",
       "      <td>0.139555</td>\n",
       "      <td>-0.252038</td>\n",
       "      <td>-0.515832</td>\n",
       "      <td>-0.793057</td>\n",
       "      <td>0.888006</td>\n",
       "      <td>-0.191981</td>\n",
       "      <td>0.422405</td>\n",
       "      <td>0.024470</td>\n",
       "      <td>-0.460753</td>\n",
       "      <td>-0.276004</td>\n",
       "    </tr>\n",
       "    <tr>\n",
       "      <th>2</th>\n",
       "      <td>-0.951522</td>\n",
       "      <td>0.139555</td>\n",
       "      <td>-0.252038</td>\n",
       "      <td>-0.515832</td>\n",
       "      <td>-0.793057</td>\n",
       "      <td>-1.268061</td>\n",
       "      <td>-1.372410</td>\n",
       "      <td>-0.927193</td>\n",
       "      <td>-1.244104</td>\n",
       "      <td>-0.460753</td>\n",
       "      <td>-1.060219</td>\n",
       "    </tr>\n",
       "    <tr>\n",
       "      <th>3</th>\n",
       "      <td>-0.951522</td>\n",
       "      <td>0.139555</td>\n",
       "      <td>-0.252038</td>\n",
       "      <td>-0.515832</td>\n",
       "      <td>-0.793057</td>\n",
       "      <td>-1.268061</td>\n",
       "      <td>-1.765887</td>\n",
       "      <td>-0.462917</td>\n",
       "      <td>0.728769</td>\n",
       "      <td>-0.460753</td>\n",
       "      <td>0.050835</td>\n",
       "    </tr>\n",
       "    <tr>\n",
       "      <th>4</th>\n",
       "      <td>-1.167031</td>\n",
       "      <td>0.139555</td>\n",
       "      <td>-0.252038</td>\n",
       "      <td>-0.515832</td>\n",
       "      <td>-0.793057</td>\n",
       "      <td>0.238965</td>\n",
       "      <td>-0.748765</td>\n",
       "      <td>1.292675</td>\n",
       "      <td>-0.215653</td>\n",
       "      <td>-0.460753</td>\n",
       "      <td>-0.052211</td>\n",
       "    </tr>\n",
       "  </tbody>\n",
       "</table>\n",
       "</div>"
      ],
      "text/plain": [
       "         0         1         2         3         4         5         6   \\\n",
       "0 -0.758743  0.139555 -0.252038 -0.515832 -0.793057 -1.268061 -1.372410   \n",
       "1 -0.584352  0.139555 -0.252038 -0.515832 -0.793057  0.888006 -0.191981   \n",
       "2 -0.951522  0.139555 -0.252038 -0.515832 -0.793057 -1.268061 -1.372410   \n",
       "3 -0.951522  0.139555 -0.252038 -0.515832 -0.793057 -1.268061 -1.765887   \n",
       "4 -1.167031  0.139555 -0.252038 -0.515832 -0.793057  0.238965 -0.748765   \n",
       "\n",
       "         7         8         9         10  \n",
       "0 -0.927193  0.005072 -0.460753 -0.943763  \n",
       "1  0.422405  0.024470 -0.460753 -0.276004  \n",
       "2 -0.927193 -1.244104 -0.460753 -1.060219  \n",
       "3 -0.462917  0.728769 -0.460753  0.050835  \n",
       "4  1.292675 -0.215653 -0.460753 -0.052211  "
      ]
     },
     "execution_count": 45,
     "metadata": {},
     "output_type": "execute_result"
    }
   ],
   "source": [
    "# Scale the data\n",
    "scaler = StandardScaler()\n",
    "x = scaler.fit_transform(x)\n",
    "pd.DataFrame(x).head()"
   ]
  },
  {
   "cell_type": "code",
   "execution_count": 46,
   "metadata": {},
   "outputs": [
    {
     "data": {
      "text/plain": [
       "0    0\n",
       "1    0\n",
       "2    0\n",
       "3    0\n",
       "4    0\n",
       "Name: fixed, dtype: int64"
      ]
     },
     "execution_count": 46,
     "metadata": {},
     "output_type": "execute_result"
    }
   ],
   "source": [
    "y.head()"
   ]
  },
  {
   "cell_type": "code",
   "execution_count": 47,
   "metadata": {},
   "outputs": [],
   "source": [
    "X_train, X_test, y_train, y_test = train_test_split(x, y, test_size = 0.2, random_state = 0)"
   ]
  },
  {
   "cell_type": "code",
   "execution_count": 48,
   "metadata": {},
   "outputs": [
    {
     "name": "stdout",
     "output_type": "stream",
     "text": [
      "Naive Predictor: [Accuracy score: 0.5164, F-score: 0.5717]\n"
     ]
    }
   ],
   "source": [
    "# Calculate accuracy of naive predictor\n",
    "accuracy = np.sum(y) / len(y)\n",
    "recall = 1\n",
    "precision = accuracy\n",
    "\n",
    "# beta < 1 lends more weight to precision\n",
    "beta = .5\n",
    "# fscore = fbeta_score(income, [1] * len(y), beta)\n",
    "fscore = (1. + beta * beta) * precision * recall / (beta * beta * precision + recall)\n",
    "\n",
    "# Print the results \n",
    "print(\"Naive Predictor: [Accuracy score: {:.4f}, F-score: {:.4f}]\".format(accuracy, fscore))"
   ]
  },
  {
   "cell_type": "code",
   "execution_count": 49,
   "metadata": {},
   "outputs": [],
   "source": [
    "def train_predict(learner, sample_size, X_train, y_train, X_test, y_test): \n",
    "    '''\n",
    "    inputs:\n",
    "       - learner: the learning algorithm to be trained and predicted on\n",
    "       - sample_size: the size of samples (number) to be drawn from training set\n",
    "       - X_train: features training set\n",
    "       - y_train: income training set\n",
    "       - X_test: features testing set\n",
    "       - y_test: income testing set\n",
    "    '''\n",
    "    \n",
    "    results = {}\n",
    "    \n",
    "    # Split of sample_size samples to use for training\n",
    "    if sample_size < X_train.shape[0]:\n",
    "        X_use, X_ignore, y_use, y_ignore = train_test_split(X_train, y_train,\n",
    "                                                            train_size = sample_size, test_size = 0,\n",
    "                                                            random_state=83615786)\n",
    "    else:\n",
    "        X_use = X_train\n",
    "        y_use = y_train\n",
    "        \n",
    "    start = time() # Get start time\n",
    "    learner.fit(X_use, y_use)\n",
    "    end = time() # Get end time\n",
    "    \n",
    "    # TODO: Calculate the training time\n",
    "    results['train_time'] = end - start\n",
    "        \n",
    "    # Get the predictions on the test set(X_test),\n",
    "    # then get predictions on the training samples(X_train)\n",
    "    start = time() # Get start time\n",
    "    predictions_test = learner.predict(X_test)\n",
    "    predictions_train = learner.predict(X_train)\n",
    "    end = time() # Get end time\n",
    "    \n",
    "    # Calculate the total prediction time\n",
    "    results['pred_time'] = end - start\n",
    "            \n",
    "    # Compute accuracy on the training samples\n",
    "    results['acc_train'] = accuracy_score(y_train, predictions_train)\n",
    "        \n",
    "    # Compute accuracy on test set using accuracy_score()\n",
    "    results['acc_test'] = accuracy_score(y_test, predictions_test)\n",
    "    \n",
    "    # Compute F-score on the the training samples using fbeta_score()\n",
    "    beta = .5\n",
    "    results['f_train'] = fbeta_score(y_train, predictions_train, beta)\n",
    "        \n",
    "    # Compute F-score on the test set which is y_test\n",
    "    results['f_test'] = fbeta_score(y_test, predictions_test, beta)\n",
    "       \n",
    "    # Success\n",
    "    print(\"{} trained on {} samples.\".format(learner.__class__.__name__, sample_size))\n",
    "            \n",
    "    # Return the results\n",
    "    return results"
   ]
  },
  {
   "cell_type": "code",
   "execution_count": 50,
   "metadata": {},
   "outputs": [],
   "source": [
    "def evaluate(results, accuracy, f1):\n",
    "    \"\"\"\n",
    "    Visualization code to display results of various learners.\n",
    "    \n",
    "    inputs:\n",
    "      - learners: a list of supervised learners\n",
    "      - stats: a list of dictionaries of the statistic results from 'train_predict()'\n",
    "      - accuracy: The score for the naive predictor\n",
    "      - f1: The score for the naive predictor\n",
    "    \"\"\"\n",
    "  \n",
    "    # Create figure\n",
    "    fig, ax = plt.subplots(2, 3, figsize = (11,7))\n",
    "    plt.subplots_adjust(hspace=.35)\n",
    "    \n",
    "    # Constants\n",
    "    bar_width = 0.3\n",
    "    colors = ['#A00000','#00A0A0','#00A000']\n",
    "    \n",
    "    # Super loop to plot four panels of data\n",
    "    for k, learner in enumerate(results.keys()):\n",
    "        for j, metric in enumerate(['train_time', 'acc_train', 'f_train', 'pred_time', 'acc_test', 'f_test']):\n",
    "            for i in np.arange(3):\n",
    "                \n",
    "                # Creative plot code\n",
    "                ax[j//3, j%3].bar(i+k*bar_width, results[learner][i][metric], width = bar_width, color = colors[k])\n",
    "                ax[j//3, j%3].set_xticks([0.45, 1.45, 2.45])\n",
    "                ax[j//3, j%3].set_xticklabels([\"1%\", \"10%\", \"100%\"])\n",
    "                ax[j//3, j%3].set_xlabel(\"Training Set Size\")\n",
    "                ax[j//3, j%3].set_xlim((-0.1, 3.0))\n",
    "    \n",
    "    # Add unique y-labels\n",
    "    ax[0, 0].set_ylabel(\"Time (in seconds)\")\n",
    "    ax[0, 1].set_ylabel(\"Accuracy Score\")\n",
    "    ax[0, 2].set_ylabel(\"F-score\")\n",
    "    ax[1, 0].set_ylabel(\"Time (in seconds)\")\n",
    "    ax[1, 1].set_ylabel(\"Accuracy Score\")\n",
    "    ax[1, 2].set_ylabel(\"F-score\")\n",
    "    \n",
    "    # Add titles\n",
    "    ax[0, 0].set_title(\"Model Training\")\n",
    "    ax[0, 1].set_title(\"Accuracy Score on Training Subset\")\n",
    "    ax[0, 2].set_title(\"F-score on Training Subset\")\n",
    "    ax[1, 0].set_title(\"Model Predicting\")\n",
    "    ax[1, 1].set_title(\"Accuracy Score on Testing Set\")\n",
    "    ax[1, 2].set_title(\"F-score on Testing Set\")\n",
    "    \n",
    "    # Add horizontal lines for naive predictors\n",
    "    ax[0, 1].axhline(y = accuracy, xmin = -0.1, xmax = 3.0, linewidth = 1, color = 'k', linestyle = 'dashed')\n",
    "    ax[1, 1].axhline(y = accuracy, xmin = -0.1, xmax = 3.0, linewidth = 1, color = 'k', linestyle = 'dashed')\n",
    "    ax[0, 2].axhline(y = f1, xmin = -0.1, xmax = 3.0, linewidth = 1, color = 'k', linestyle = 'dashed')\n",
    "    ax[1, 2].axhline(y = f1, xmin = -0.1, xmax = 3.0, linewidth = 1, color = 'k', linestyle = 'dashed')\n",
    "    \n",
    "    # Set y-limits for score panels\n",
    "    ax[0, 1].set_ylim((0, 1))\n",
    "    ax[0, 2].set_ylim((0, 1))\n",
    "    ax[1, 1].set_ylim((0, 1))\n",
    "    ax[1, 2].set_ylim((0, 1))\n",
    "\n",
    "    # Create patches for the legend\n",
    "    patches = []\n",
    "    for i, learner in enumerate(results.keys()):\n",
    "        patches.append(mpatches.Patch(color = colors[i], label = learner))\n",
    "    plt.legend(handles = patches, bbox_to_anchor = (-.5, 2.7), \\\n",
    "               loc = 'upper center', borderaxespad = 0., ncol = 3, fontsize = 'x-large')\n",
    "    \n",
    "    # Aesthetics\n",
    "    plt.suptitle(\"Performance Metrics for Three Supervised Learning Models\", fontsize = 16, y = 1.10)\n",
    "    plt.tight_layout()\n",
    "    plt.show()"
   ]
  },
  {
   "cell_type": "markdown",
   "metadata": {},
   "source": [
    "## Selection of classifier models\n",
    "\n",
    "KNeighbors, SGD are suitable algorithms according to https://scikit-learn.org/stable/tutorial/machine_learning_map/index.html. Not considering SVC due to runtime on large data sets. Adding RandomForest."
   ]
  },
  {
   "cell_type": "code",
   "execution_count": 51,
   "metadata": {
    "scrolled": true
   },
   "outputs": [
    {
     "name": "stdout",
     "output_type": "stream",
     "text": [
      "KNeighborsClassifier trained on 7161 samples.\n",
      "KNeighborsClassifier trained on 71612 samples.\n",
      "KNeighborsClassifier trained on 716128 samples.\n"
     ]
    },
    {
     "name": "stderr",
     "output_type": "stream",
     "text": [
      "/usr/lib/python3/dist-packages/sklearn/ensemble/forest.py:246: FutureWarning: The default value of n_estimators will change from 10 in version 0.20 to 100 in 0.22.\n",
      "  \"10 in version 0.20 to 100 in 0.22.\", FutureWarning)\n"
     ]
    },
    {
     "name": "stdout",
     "output_type": "stream",
     "text": [
      "RandomForestClassifier trained on 7161 samples.\n",
      "RandomForestClassifier trained on 71612 samples.\n",
      "RandomForestClassifier trained on 716128 samples.\n"
     ]
    },
    {
     "name": "stderr",
     "output_type": "stream",
     "text": [
      "/usr/lib/python3/dist-packages/sklearn/linear_model/stochastic_gradient.py:166: FutureWarning: max_iter and tol parameters have been added in SGDClassifier in 0.19. If both are left unset, they default to max_iter=5 and tol=None. If tol is not None, max_iter defaults to max_iter=1000. From 0.21, default max_iter will be 1000, and default tol will be 1e-3.\n",
      "  FutureWarning)\n",
      "/usr/lib/python3/dist-packages/sklearn/linear_model/stochastic_gradient.py:166: FutureWarning: max_iter and tol parameters have been added in SGDClassifier in 0.19. If both are left unset, they default to max_iter=5 and tol=None. If tol is not None, max_iter defaults to max_iter=1000. From 0.21, default max_iter will be 1000, and default tol will be 1e-3.\n",
      "  FutureWarning)\n"
     ]
    },
    {
     "name": "stdout",
     "output_type": "stream",
     "text": [
      "SGDClassifier trained on 7161 samples.\n",
      "SGDClassifier trained on 71612 samples.\n"
     ]
    },
    {
     "name": "stderr",
     "output_type": "stream",
     "text": [
      "/usr/lib/python3/dist-packages/sklearn/linear_model/stochastic_gradient.py:166: FutureWarning: max_iter and tol parameters have been added in SGDClassifier in 0.19. If both are left unset, they default to max_iter=5 and tol=None. If tol is not None, max_iter defaults to max_iter=1000. From 0.21, default max_iter will be 1000, and default tol will be 1e-3.\n",
      "  FutureWarning)\n"
     ]
    },
    {
     "name": "stdout",
     "output_type": "stream",
     "text": [
      "SGDClassifier trained on 716128 samples.\n"
     ]
    },
    {
     "name": "stderr",
     "output_type": "stream",
     "text": [
      "/usr/lib/python3/dist-packages/matplotlib/tight_layout.py:199: UserWarning: Tight layout not applied. tight_layout cannot make axes width small enough to accommodate all axes decorations\n",
      "  warnings.warn('Tight layout not applied. '\n"
     ]
    },
    {
     "data": {
      "image/png": "[encoded data removed]",
      "text/plain": [
       "<Figure size 792x504 with 6 Axes>"
      ]
     },
     "metadata": {
      "needs_background": "light"
     },
     "output_type": "display_data"
    }
   ],
   "source": [
    "# Initialize the three models\n",
    "clf_A = KNeighborsClassifier()\n",
    "clf_B = RandomForestClassifier(random_state=9793)\n",
    "clf_C = SGDClassifier(random_state=9793)\n",
    "\n",
    "# Calculate the number of samples for 1%, 10%, and 100% of the training data\n",
    "\n",
    "samples_100 = len(y_train)\n",
    "samples_10 = int(samples_100 / 10)\n",
    "samples_1 = int(samples_100 / 100)\n",
    "\n",
    "# Collect results on the learners\n",
    "results = {}\n",
    "for clf in [clf_A, clf_B, clf_C]:\n",
    "    clf_name = clf.__class__.__name__\n",
    "    results[clf_name] = {}\n",
    "    for i, samples in enumerate([samples_1, samples_10, samples_100]):\n",
    "        results[clf_name][i] = \\\n",
    "        train_predict(clf, samples, X_train, y_train, X_test, y_test)\n",
    "\n",
    "# Run metrics visualization for the three supervised learning models chosen\n",
    "evaluate(results, accuracy, fscore)\n",
    "\n"
   ]
  },
  {
   "cell_type": "code",
   "execution_count": 52,
   "metadata": {},
   "outputs": [
    {
     "name": "stderr",
     "output_type": "stream",
     "text": [
      "/usr/lib/python3/dist-packages/matplotlib/tight_layout.py:199: UserWarning: Tight layout not applied. tight_layout cannot make axes width small enough to accommodate all axes decorations\n",
      "  warnings.warn('Tight layout not applied. '\n"
     ]
    },
    {
     "data": {
      "image/png": "[encoded data removed]",
      "text/plain": [
       "<Figure size 792x504 with 6 Axes>"
      ]
     },
     "metadata": {
      "needs_background": "light"
     },
     "output_type": "display_data"
    }
   ],
   "source": [
    "\n",
    "evaluate(results, accuracy, fscore)"
   ]
  },
  {
   "cell_type": "code",
   "execution_count": 53,
   "metadata": {},
   "outputs": [
    {
     "data": {
      "text/plain": [
       "{'KNeighborsClassifier': {0: {'train_time': 0.025503158569335938,\n",
       "   'pred_time': 43.15407991409302,\n",
       "   'acc_train': 0.6861385115510077,\n",
       "   'acc_test': 0.6850133774220395,\n",
       "   'f_train': 0.6959012505726879,\n",
       "   'f_test': 0.6941101568230165},\n",
       "  1: {'train_time': 3.203774929046631,\n",
       "   'pred_time': 97.47345232963562,\n",
       "   'acc_train': 0.7481944568568748,\n",
       "   'acc_test': 0.7400088251886524,\n",
       "   'f_train': 0.7455154808297012,\n",
       "   'f_test': 0.7378074114716587},\n",
       "  2: {'train_time': 1208.1894133090973,\n",
       "   'pred_time': 329.33947706222534,\n",
       "   'acc_train': 0.9540850239063408,\n",
       "   'acc_test': 0.9353024302782169,\n",
       "   'f_train': 0.9337918188764932,\n",
       "   'f_test': 0.9089906167566641}},\n",
       " 'RandomForestClassifier': {0: {'train_time': 0.08418846130371094,\n",
       "   'pred_time': 0.9147021770477295,\n",
       "   'acc_train': 0.7212830667143304,\n",
       "   'acc_test': 0.719169091731692,\n",
       "   'f_train': 0.7351005216592397,\n",
       "   'f_test': 0.7324707231556211},\n",
       "  1: {'train_time': 0.7062346935272217,\n",
       "   'pred_time': 1.347839593887329,\n",
       "   'acc_train': 0.8774325260288663,\n",
       "   'acc_test': 0.8637122765076829,\n",
       "   'f_train': 0.8713918044056737,\n",
       "   'f_test': 0.857432512278505},\n",
       "  2: {'train_time': 8.987684726715088,\n",
       "   'pred_time': 1.6902523040771484,\n",
       "   'acc_train': 0.9994945037758614,\n",
       "   'acc_test': 0.99435299637497,\n",
       "   'f_train': 0.9993180505323473,\n",
       "   'f_test': 0.9914544052347674}},\n",
       " 'SGDClassifier': {0: {'train_time': 0.019328594207763672,\n",
       "   'pred_time': 0.013112306594848633,\n",
       "   'acc_train': 0.6785923745475669,\n",
       "   'acc_test': 0.6781207933732887,\n",
       "   'f_train': 0.6876226960951843,\n",
       "   'f_test': 0.6867257878395695},\n",
       "  1: {'train_time': 0.030717849731445312,\n",
       "   'pred_time': 0.012680292129516602,\n",
       "   'acc_train': 0.7074014701282453,\n",
       "   'acc_test': 0.7074505817363279,\n",
       "   'f_train': 0.722942134513501,\n",
       "   'f_test': 0.72240404091729},\n",
       "  2: {'train_time': 0.6977560520172119,\n",
       "   'pred_time': 0.011739253997802734,\n",
       "   'acc_train': 0.7219714911300773,\n",
       "   'acc_test': 0.7219786296381114,\n",
       "   'f_train': 0.730556814647894,\n",
       "   'f_test': 0.7299697440862951}}}"
      ]
     },
     "execution_count": 53,
     "metadata": {},
     "output_type": "execute_result"
    }
   ],
   "source": [
    "results"
   ]
  },
  {
   "cell_type": "code",
   "execution_count": 54,
   "metadata": {},
   "outputs": [
    {
     "name": "stdout",
     "output_type": "stream",
     "text": [
      "number of test samples 179033\n",
      "confusion matrix\n"
     ]
    },
    {
     "data": {
      "text/plain": [
       "array([[85717,   989],\n",
       "       [   22, 92305]])"
      ]
     },
     "execution_count": 54,
     "metadata": {},
     "output_type": "execute_result"
    }
   ],
   "source": [
    "y_pred = clf_B.predict(X_test)\n",
    "print(\"number of test samples {}\".format(X_test.shape[0]))\n",
    "print(\"confusion matrix\")\n",
    "confusion_matrix(y_test, y_pred)"
   ]
  },
  {
   "cell_type": "code",
   "execution_count": 55,
   "metadata": {},
   "outputs": [
    {
     "name": "stderr",
     "output_type": "stream",
     "text": [
      "/usr/lib/python3/dist-packages/ipykernel_launcher.py:3: DataConversionWarning: Data with input dtype int64, float64 were all converted to float64 by StandardScaler.\n",
      "  This is separate from the ipykernel package so we can avoid doing imports until\n"
     ]
    }
   ],
   "source": [
    "df = pd.DataFrame(data)\n",
    "x = df.drop(columns='fixed')\n",
    "x = scaler.transform(x)\n",
    "y = df['fixed']\n"
   ]
  },
  {
   "cell_type": "code",
   "execution_count": 56,
   "metadata": {},
   "outputs": [],
   "source": [
    "y_pred = clf_B.predict(x)"
   ]
  },
  {
   "cell_type": "code",
   "execution_count": 57,
   "metadata": {},
   "outputs": [
    {
     "name": "stdout",
     "output_type": "stream",
     "text": [
      "confusion matrix for original data set\n"
     ]
    },
    {
     "data": {
      "text/plain": [
       "array([[431620,   1289],\n",
       "       [     4,  22008]])"
      ]
     },
     "execution_count": 57,
     "metadata": {},
     "output_type": "execute_result"
    }
   ],
   "source": [
    "print(\"confusion matrix for original data set\")\n",
    "confusion_matrix(y, y_pred)"
   ]
  },
  {
   "cell_type": "markdown",
   "metadata": {},
   "source": [
    "# Evaluation\n",
    "\n",
    "Of the different classifiers compared a Random Forest classifier seems to be most appropriate: It provides the best accuracy and has an acceptable training and prediction time.\n",
    "\n",
    "The number of false negatives (fixed patches not predicted to need fixing) is so small that further parameter optimization does not make much sense. On the other side we know that there are patches that are not correctly labeled as fixed: they might be too new to be fixed, the \"Fixes:\" label may not have been correctly filled (757 cases as mentioned above) or not \"Fixes:\" label may have been applied at all. So opimizing for less \"false positives\" does also not seem reasonable."
   ]
  },
  {
   "cell_type": "markdown",
   "metadata": {},
   "source": [
    "# Deployment\n",
    "\n",
    "A blog describing the results was created and is available at https://www.xpyron.de/blog"
   ]
  }
 ],
 "metadata": {
  "kernelspec": {
   "display_name": "Python 3",
   "language": "python",
   "name": "python3"
  },
  "language_info": {
   "codemirror_mode": {
    "name": "ipython",
    "version": 3
   },
   "file_extension": ".py",
   "mimetype": "text/x-python",
   "name": "python",
   "nbconvert_exporter": "python",
   "pygments_lexer": "ipython3",
   "version": "3.7.4+"
  }
 },
 "nbformat": 4,
 "nbformat_minor": 2
}
